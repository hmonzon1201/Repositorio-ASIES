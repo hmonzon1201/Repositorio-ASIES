{
  "cells": [
    {
      "cell_type": "markdown",
      "metadata": {
        "id": "view-in-github",
        "colab_type": "text"
      },
      "source": [
        "<a href=\"https://colab.research.google.com/github/hmonzon1201/Repositorio-ASIES/blob/main/Ejercicio_1_y_2.ipynb\" target=\"_parent\"><img src=\"https://colab.research.google.com/assets/colab-badge.svg\" alt=\"Open In Colab\"/></a>"
      ]
    },
    {
      "cell_type": "markdown",
      "metadata": {
        "id": "tqDLmva5YOYi"
      },
      "source": [
        "<img src=\"https://i.imgur.com/6U6q5jQ.png\"/>\n",
        "\n",
        "_____"
      ]
    },
    {
      "cell_type": "markdown",
      "metadata": {
        "id": "5CTY1cYLYOYl"
      },
      "source": [
        "<a target=\"_blank\" href=\"https://colab.research.google.com/github/SocialAnalytics-StrategicIntelligence/introSocialSim/blob/main/IntroSocialSim.ipynb\">\n",
        "  <img src=\"https://colab.research.google.com/assets/colab-badge.svg\" alt=\"Open In Colab\"/>\n",
        "</a>\n",
        "\n",
        "# Introduction to Social Simulation\n",
        "\n",
        "Statistical analysis benefits primarily the study of variables/ factors distributions. We could complement that approach if we focus on the actors that produce the variables.\n",
        "\n",
        "However, representing the actor is not an easy task:\n",
        "\n",
        "* A social outcome is a **complex** aggregate of individual actors. In general we call social outcomes **emergent** results of individual decisions.\n",
        "\n",
        "* Individual decisions have been assumed to be rational, which over simplyfies models of actors. As a matter of fact, decision making is a field under study.\n",
        "\n",
        "* Information processing of agents is biased by \"culture\" (beliefs, experience) and institutions (rules, habits). And many paradigms can co-exist in a particular group. Change is possible, but social structure and culture limits it.\n",
        "\n",
        "* Actors actions and decisions occur within a network of agents. An actor can be part of several networks.\n",
        "\n",
        "\n",
        "The field related to this study is **Computational Social Science**. The particular methodology is **agent-based modelling**."
      ]
    },
    {
      "cell_type": "markdown",
      "metadata": {
        "id": "Wku7AekbYOYm"
      },
      "source": [
        "# A simple game as an example\n",
        "\n",
        "According to WIKIPEDIA, the game Rock, Paper, Scissors is a simultaneous, zero-sum game, with three possible outcomes: a draw, a win, or a loss:\n",
        "\n",
        "* A player who decides to play **ROCK** will beat another player who chooses **SCISSORS** (\"rock crushes scissors\" or \"breaks scissors\")\n",
        "* A player who decides to play **ROCK**  will lose to one who has played **PAPER** (\"paper covers rock\").\n",
        "* A player who decides to play **PAPER** will lose to a play of **SCISSORS** (\"scissors cuts paper\").\n",
        "* If both players choose the same shape, the game is tied.\n",
        "\n",
        "Let´s represent the game:\n",
        "\n",
        "## Strategies\n",
        "\n",
        "Strategies are the options available:"
      ]
    },
    {
      "cell_type": "code",
      "execution_count": null,
      "metadata": {
        "id": "DKGbZzltYOYn"
      },
      "outputs": [],
      "source": [
        "strategies=['Rock','Paper','Scissors']"
      ]
    },
    {
      "cell_type": "markdown",
      "metadata": {
        "id": "l6GemLlyYOYo"
      },
      "source": [
        "## Rules\n",
        "\n",
        "The rules tell you that according to a strategy followed, players get a pay-off:"
      ]
    },
    {
      "cell_type": "code",
      "execution_count": null,
      "metadata": {
        "id": "guiu35xlYOYo"
      },
      "outputs": [],
      "source": [
        "payoff={('Rock','Paper'):(0,1),\n",
        "        ('Paper','Rock'):(1,0),\n",
        "        ('Rock','Scissors'):(1,0),\n",
        "        ('Scissors','Rock'):(0,1),\n",
        "        ('Paper','Scissors'):(0,1),\n",
        "        ('Scissors','Paper'):(1,0),\n",
        "        ('Rock','Rock'):(0,0),\n",
        "        ('Paper','Paper'):(0,0),\n",
        "        ('Scissors','Scissors'):(0,0)}"
      ]
    },
    {
      "cell_type": "markdown",
      "metadata": {
        "id": "DOTvH0-_YOYp"
      },
      "source": [
        "## Creating and setting up agents:\n",
        "\n",
        "Players have a name, but have no score, and no strategy yet."
      ]
    },
    {
      "cell_type": "code",
      "execution_count": null,
      "metadata": {
        "id": "BkJcd7JHYOYp"
      },
      "outputs": [],
      "source": [
        "Players=[{'name':'John','score':0,'strategy':None},\n",
        "         {'name':'Mary','score':0,'strategy':None}]"
      ]
    },
    {
      "cell_type": "markdown",
      "metadata": {
        "id": "_P1V3jYXYOYp"
      },
      "source": [
        "## Decision making process\n",
        "\n",
        "This is the process to choose an strategy:"
      ]
    },
    {
      "cell_type": "code",
      "execution_count": null,
      "metadata": {
        "id": "HZmQ7is4YOYq"
      },
      "outputs": [],
      "source": [
        "from random import choice\n",
        "\n",
        "#simplest strategy: choose randomly\n",
        "choice(strategies);"
      ]
    },
    {
      "cell_type": "markdown",
      "metadata": {
        "id": "oTvoF7zBYOYq"
      },
      "source": [
        "## The moment of truth"
      ]
    },
    {
      "cell_type": "markdown",
      "metadata": {
        "id": "uDCLRtRvYOYq"
      },
      "source": [
        "* ### agent decide strategy"
      ]
    },
    {
      "cell_type": "code",
      "execution_count": null,
      "metadata": {
        "id": "pF2Mb0L_YOYr"
      },
      "outputs": [],
      "source": [
        "Players[0]['strategy']=choice(strategies)\n",
        "Players[1]['strategy']=choice(strategies)"
      ]
    },
    {
      "cell_type": "markdown",
      "metadata": {
        "id": "DME2OmvfYOYr"
      },
      "source": [
        "* ### decisions made"
      ]
    },
    {
      "cell_type": "code",
      "execution_count": null,
      "metadata": {
        "id": "uk4t3BICYOYr",
        "colab": {
          "base_uri": "https://localhost:8080/"
        },
        "outputId": "41f3242d-12d5-4a5b-dcc2-d5bf01529724"
      },
      "outputs": [
        {
          "output_type": "execute_result",
          "data": {
            "text/plain": [
              "('Paper', 'Paper')"
            ]
          },
          "metadata": {},
          "execution_count": 66
        }
      ],
      "source": [
        "Players[0]['strategy'],Players[1]['strategy']"
      ]
    },
    {
      "cell_type": "code",
      "execution_count": null,
      "metadata": {
        "id": "squELIHmYOYr",
        "colab": {
          "base_uri": "https://localhost:8080/"
        },
        "outputId": "8c01e5a1-a946-4cb5-ef03-d0b339002527"
      },
      "outputs": [
        {
          "output_type": "execute_result",
          "data": {
            "text/plain": [
              "(0, 0)"
            ]
          },
          "metadata": {},
          "execution_count": 67
        }
      ],
      "source": [
        "# social result of individual decision\n",
        "result = payoff[Players[0]['strategy'],Players[1]['strategy']]\n",
        "result"
      ]
    },
    {
      "cell_type": "markdown",
      "metadata": {
        "id": "EXJ2IggUYOYs"
      },
      "source": [
        "* ### agent benefits/suffers from decision made"
      ]
    },
    {
      "cell_type": "code",
      "execution_count": null,
      "metadata": {
        "id": "0cJFdhtlYOYs"
      },
      "outputs": [],
      "source": [
        "# update agents situation\n",
        "Players[0]['score']+=result[0]\n",
        "Players[1]['score']+=result[1]"
      ]
    },
    {
      "cell_type": "code",
      "execution_count": null,
      "metadata": {
        "id": "SA5BOCaNYOYs",
        "colab": {
          "base_uri": "https://localhost:8080/"
        },
        "outputId": "0e2a4775-c8ba-41e6-bac5-22f4338c2d28"
      },
      "outputs": [
        {
          "output_type": "execute_result",
          "data": {
            "text/plain": [
              "[{'name': 'John', 'score': 0, 'strategy': 'Paper'},\n",
              " {'name': 'Mary', 'score': 0, 'strategy': 'Paper'}]"
            ]
          },
          "metadata": {},
          "execution_count": 69
        }
      ],
      "source": [
        "# current agent situation\n",
        "Players"
      ]
    },
    {
      "cell_type": "markdown",
      "metadata": {
        "id": "SprPvQUZYOYs"
      },
      "source": [
        "* ### social outcome"
      ]
    },
    {
      "cell_type": "code",
      "execution_count": null,
      "metadata": {
        "id": "PxnUQfuZYOYs",
        "colab": {
          "base_uri": "https://localhost:8080/",
          "height": 125
        },
        "outputId": "e9cdb90a-af9d-456f-c5cc-1c0e83459e77"
      },
      "outputs": [
        {
          "output_type": "execute_result",
          "data": {
            "text/plain": [
              "   name  score strategy\n",
              "0  John      0    Paper\n",
              "1  Mary      0    Paper"
            ],
            "text/html": [
              "\n",
              "  <div id=\"df-42221bd6-bccf-43e5-aad4-20c578bfb8f0\" class=\"colab-df-container\">\n",
              "    <div>\n",
              "<style scoped>\n",
              "    .dataframe tbody tr th:only-of-type {\n",
              "        vertical-align: middle;\n",
              "    }\n",
              "\n",
              "    .dataframe tbody tr th {\n",
              "        vertical-align: top;\n",
              "    }\n",
              "\n",
              "    .dataframe thead th {\n",
              "        text-align: right;\n",
              "    }\n",
              "</style>\n",
              "<table border=\"1\" class=\"dataframe\">\n",
              "  <thead>\n",
              "    <tr style=\"text-align: right;\">\n",
              "      <th></th>\n",
              "      <th>name</th>\n",
              "      <th>score</th>\n",
              "      <th>strategy</th>\n",
              "    </tr>\n",
              "  </thead>\n",
              "  <tbody>\n",
              "    <tr>\n",
              "      <th>0</th>\n",
              "      <td>John</td>\n",
              "      <td>0</td>\n",
              "      <td>Paper</td>\n",
              "    </tr>\n",
              "    <tr>\n",
              "      <th>1</th>\n",
              "      <td>Mary</td>\n",
              "      <td>0</td>\n",
              "      <td>Paper</td>\n",
              "    </tr>\n",
              "  </tbody>\n",
              "</table>\n",
              "</div>\n",
              "    <div class=\"colab-df-buttons\">\n",
              "\n",
              "  <div class=\"colab-df-container\">\n",
              "    <button class=\"colab-df-convert\" onclick=\"convertToInteractive('df-42221bd6-bccf-43e5-aad4-20c578bfb8f0')\"\n",
              "            title=\"Convert this dataframe to an interactive table.\"\n",
              "            style=\"display:none;\">\n",
              "\n",
              "  <svg xmlns=\"http://www.w3.org/2000/svg\" height=\"24px\" viewBox=\"0 -960 960 960\">\n",
              "    <path d=\"M120-120v-720h720v720H120Zm60-500h600v-160H180v160Zm220 220h160v-160H400v160Zm0 220h160v-160H400v160ZM180-400h160v-160H180v160Zm440 0h160v-160H620v160ZM180-180h160v-160H180v160Zm440 0h160v-160H620v160Z\"/>\n",
              "  </svg>\n",
              "    </button>\n",
              "\n",
              "  <style>\n",
              "    .colab-df-container {\n",
              "      display:flex;\n",
              "      gap: 12px;\n",
              "    }\n",
              "\n",
              "    .colab-df-convert {\n",
              "      background-color: #E8F0FE;\n",
              "      border: none;\n",
              "      border-radius: 50%;\n",
              "      cursor: pointer;\n",
              "      display: none;\n",
              "      fill: #1967D2;\n",
              "      height: 32px;\n",
              "      padding: 0 0 0 0;\n",
              "      width: 32px;\n",
              "    }\n",
              "\n",
              "    .colab-df-convert:hover {\n",
              "      background-color: #E2EBFA;\n",
              "      box-shadow: 0px 1px 2px rgba(60, 64, 67, 0.3), 0px 1px 3px 1px rgba(60, 64, 67, 0.15);\n",
              "      fill: #174EA6;\n",
              "    }\n",
              "\n",
              "    .colab-df-buttons div {\n",
              "      margin-bottom: 4px;\n",
              "    }\n",
              "\n",
              "    [theme=dark] .colab-df-convert {\n",
              "      background-color: #3B4455;\n",
              "      fill: #D2E3FC;\n",
              "    }\n",
              "\n",
              "    [theme=dark] .colab-df-convert:hover {\n",
              "      background-color: #434B5C;\n",
              "      box-shadow: 0px 1px 3px 1px rgba(0, 0, 0, 0.15);\n",
              "      filter: drop-shadow(0px 1px 2px rgba(0, 0, 0, 0.3));\n",
              "      fill: #FFFFFF;\n",
              "    }\n",
              "  </style>\n",
              "\n",
              "    <script>\n",
              "      const buttonEl =\n",
              "        document.querySelector('#df-42221bd6-bccf-43e5-aad4-20c578bfb8f0 button.colab-df-convert');\n",
              "      buttonEl.style.display =\n",
              "        google.colab.kernel.accessAllowed ? 'block' : 'none';\n",
              "\n",
              "      async function convertToInteractive(key) {\n",
              "        const element = document.querySelector('#df-42221bd6-bccf-43e5-aad4-20c578bfb8f0');\n",
              "        const dataTable =\n",
              "          await google.colab.kernel.invokeFunction('convertToInteractive',\n",
              "                                                    [key], {});\n",
              "        if (!dataTable) return;\n",
              "\n",
              "        const docLinkHtml = 'Like what you see? Visit the ' +\n",
              "          '<a target=\"_blank\" href=https://colab.research.google.com/notebooks/data_table.ipynb>data table notebook</a>'\n",
              "          + ' to learn more about interactive tables.';\n",
              "        element.innerHTML = '';\n",
              "        dataTable['output_type'] = 'display_data';\n",
              "        await google.colab.output.renderOutput(dataTable, element);\n",
              "        const docLink = document.createElement('div');\n",
              "        docLink.innerHTML = docLinkHtml;\n",
              "        element.appendChild(docLink);\n",
              "      }\n",
              "    </script>\n",
              "  </div>\n",
              "\n",
              "\n",
              "<div id=\"df-1f6beafb-24bc-4519-a486-0dc7e496a77e\">\n",
              "  <button class=\"colab-df-quickchart\" onclick=\"quickchart('df-1f6beafb-24bc-4519-a486-0dc7e496a77e')\"\n",
              "            title=\"Suggest charts\"\n",
              "            style=\"display:none;\">\n",
              "\n",
              "<svg xmlns=\"http://www.w3.org/2000/svg\" height=\"24px\"viewBox=\"0 0 24 24\"\n",
              "     width=\"24px\">\n",
              "    <g>\n",
              "        <path d=\"M19 3H5c-1.1 0-2 .9-2 2v14c0 1.1.9 2 2 2h14c1.1 0 2-.9 2-2V5c0-1.1-.9-2-2-2zM9 17H7v-7h2v7zm4 0h-2V7h2v10zm4 0h-2v-4h2v4z\"/>\n",
              "    </g>\n",
              "</svg>\n",
              "  </button>\n",
              "\n",
              "<style>\n",
              "  .colab-df-quickchart {\n",
              "      --bg-color: #E8F0FE;\n",
              "      --fill-color: #1967D2;\n",
              "      --hover-bg-color: #E2EBFA;\n",
              "      --hover-fill-color: #174EA6;\n",
              "      --disabled-fill-color: #AAA;\n",
              "      --disabled-bg-color: #DDD;\n",
              "  }\n",
              "\n",
              "  [theme=dark] .colab-df-quickchart {\n",
              "      --bg-color: #3B4455;\n",
              "      --fill-color: #D2E3FC;\n",
              "      --hover-bg-color: #434B5C;\n",
              "      --hover-fill-color: #FFFFFF;\n",
              "      --disabled-bg-color: #3B4455;\n",
              "      --disabled-fill-color: #666;\n",
              "  }\n",
              "\n",
              "  .colab-df-quickchart {\n",
              "    background-color: var(--bg-color);\n",
              "    border: none;\n",
              "    border-radius: 50%;\n",
              "    cursor: pointer;\n",
              "    display: none;\n",
              "    fill: var(--fill-color);\n",
              "    height: 32px;\n",
              "    padding: 0;\n",
              "    width: 32px;\n",
              "  }\n",
              "\n",
              "  .colab-df-quickchart:hover {\n",
              "    background-color: var(--hover-bg-color);\n",
              "    box-shadow: 0 1px 2px rgba(60, 64, 67, 0.3), 0 1px 3px 1px rgba(60, 64, 67, 0.15);\n",
              "    fill: var(--button-hover-fill-color);\n",
              "  }\n",
              "\n",
              "  .colab-df-quickchart-complete:disabled,\n",
              "  .colab-df-quickchart-complete:disabled:hover {\n",
              "    background-color: var(--disabled-bg-color);\n",
              "    fill: var(--disabled-fill-color);\n",
              "    box-shadow: none;\n",
              "  }\n",
              "\n",
              "  .colab-df-spinner {\n",
              "    border: 2px solid var(--fill-color);\n",
              "    border-color: transparent;\n",
              "    border-bottom-color: var(--fill-color);\n",
              "    animation:\n",
              "      spin 1s steps(1) infinite;\n",
              "  }\n",
              "\n",
              "  @keyframes spin {\n",
              "    0% {\n",
              "      border-color: transparent;\n",
              "      border-bottom-color: var(--fill-color);\n",
              "      border-left-color: var(--fill-color);\n",
              "    }\n",
              "    20% {\n",
              "      border-color: transparent;\n",
              "      border-left-color: var(--fill-color);\n",
              "      border-top-color: var(--fill-color);\n",
              "    }\n",
              "    30% {\n",
              "      border-color: transparent;\n",
              "      border-left-color: var(--fill-color);\n",
              "      border-top-color: var(--fill-color);\n",
              "      border-right-color: var(--fill-color);\n",
              "    }\n",
              "    40% {\n",
              "      border-color: transparent;\n",
              "      border-right-color: var(--fill-color);\n",
              "      border-top-color: var(--fill-color);\n",
              "    }\n",
              "    60% {\n",
              "      border-color: transparent;\n",
              "      border-right-color: var(--fill-color);\n",
              "    }\n",
              "    80% {\n",
              "      border-color: transparent;\n",
              "      border-right-color: var(--fill-color);\n",
              "      border-bottom-color: var(--fill-color);\n",
              "    }\n",
              "    90% {\n",
              "      border-color: transparent;\n",
              "      border-bottom-color: var(--fill-color);\n",
              "    }\n",
              "  }\n",
              "</style>\n",
              "\n",
              "  <script>\n",
              "    async function quickchart(key) {\n",
              "      const quickchartButtonEl =\n",
              "        document.querySelector('#' + key + ' button');\n",
              "      quickchartButtonEl.disabled = true;  // To prevent multiple clicks.\n",
              "      quickchartButtonEl.classList.add('colab-df-spinner');\n",
              "      try {\n",
              "        const charts = await google.colab.kernel.invokeFunction(\n",
              "            'suggestCharts', [key], {});\n",
              "      } catch (error) {\n",
              "        console.error('Error during call to suggestCharts:', error);\n",
              "      }\n",
              "      quickchartButtonEl.classList.remove('colab-df-spinner');\n",
              "      quickchartButtonEl.classList.add('colab-df-quickchart-complete');\n",
              "    }\n",
              "    (() => {\n",
              "      let quickchartButtonEl =\n",
              "        document.querySelector('#df-1f6beafb-24bc-4519-a486-0dc7e496a77e button');\n",
              "      quickchartButtonEl.style.display =\n",
              "        google.colab.kernel.accessAllowed ? 'block' : 'none';\n",
              "    })();\n",
              "  </script>\n",
              "</div>\n",
              "\n",
              "  <div id=\"id_41a2f739-3207-427c-a844-ede5d6e9be11\">\n",
              "    <style>\n",
              "      .colab-df-generate {\n",
              "        background-color: #E8F0FE;\n",
              "        border: none;\n",
              "        border-radius: 50%;\n",
              "        cursor: pointer;\n",
              "        display: none;\n",
              "        fill: #1967D2;\n",
              "        height: 32px;\n",
              "        padding: 0 0 0 0;\n",
              "        width: 32px;\n",
              "      }\n",
              "\n",
              "      .colab-df-generate:hover {\n",
              "        background-color: #E2EBFA;\n",
              "        box-shadow: 0px 1px 2px rgba(60, 64, 67, 0.3), 0px 1px 3px 1px rgba(60, 64, 67, 0.15);\n",
              "        fill: #174EA6;\n",
              "      }\n",
              "\n",
              "      [theme=dark] .colab-df-generate {\n",
              "        background-color: #3B4455;\n",
              "        fill: #D2E3FC;\n",
              "      }\n",
              "\n",
              "      [theme=dark] .colab-df-generate:hover {\n",
              "        background-color: #434B5C;\n",
              "        box-shadow: 0px 1px 3px 1px rgba(0, 0, 0, 0.15);\n",
              "        filter: drop-shadow(0px 1px 2px rgba(0, 0, 0, 0.3));\n",
              "        fill: #FFFFFF;\n",
              "      }\n",
              "    </style>\n",
              "    <button class=\"colab-df-generate\" onclick=\"generateWithVariable('socialResults')\"\n",
              "            title=\"Generate code using this dataframe.\"\n",
              "            style=\"display:none;\">\n",
              "\n",
              "  <svg xmlns=\"http://www.w3.org/2000/svg\" height=\"24px\"viewBox=\"0 0 24 24\"\n",
              "       width=\"24px\">\n",
              "    <path d=\"M7,19H8.4L18.45,9,17,7.55,7,17.6ZM5,21V16.75L18.45,3.32a2,2,0,0,1,2.83,0l1.4,1.43a1.91,1.91,0,0,1,.58,1.4,1.91,1.91,0,0,1-.58,1.4L9.25,21ZM18.45,9,17,7.55Zm-12,3A5.31,5.31,0,0,0,4.9,8.1,5.31,5.31,0,0,0,1,6.5,5.31,5.31,0,0,0,4.9,4.9,5.31,5.31,0,0,0,6.5,1,5.31,5.31,0,0,0,8.1,4.9,5.31,5.31,0,0,0,12,6.5,5.46,5.46,0,0,0,6.5,12Z\"/>\n",
              "  </svg>\n",
              "    </button>\n",
              "    <script>\n",
              "      (() => {\n",
              "      const buttonEl =\n",
              "        document.querySelector('#id_41a2f739-3207-427c-a844-ede5d6e9be11 button.colab-df-generate');\n",
              "      buttonEl.style.display =\n",
              "        google.colab.kernel.accessAllowed ? 'block' : 'none';\n",
              "\n",
              "      buttonEl.onclick = () => {\n",
              "        google.colab.notebook.generateWithVariable('socialResults');\n",
              "      }\n",
              "      })();\n",
              "    </script>\n",
              "  </div>\n",
              "\n",
              "    </div>\n",
              "  </div>\n"
            ],
            "application/vnd.google.colaboratory.intrinsic+json": {
              "type": "dataframe",
              "variable_name": "socialResults",
              "summary": "{\n  \"name\": \"socialResults\",\n  \"rows\": 2,\n  \"fields\": [\n    {\n      \"column\": \"name\",\n      \"properties\": {\n        \"dtype\": \"string\",\n        \"num_unique_values\": 2,\n        \"samples\": [\n          \"Mary\",\n          \"John\"\n        ],\n        \"semantic_type\": \"\",\n        \"description\": \"\"\n      }\n    },\n    {\n      \"column\": \"score\",\n      \"properties\": {\n        \"dtype\": \"number\",\n        \"std\": 0,\n        \"min\": 0,\n        \"max\": 0,\n        \"num_unique_values\": 1,\n        \"samples\": [\n          0\n        ],\n        \"semantic_type\": \"\",\n        \"description\": \"\"\n      }\n    },\n    {\n      \"column\": \"strategy\",\n      \"properties\": {\n        \"dtype\": \"string\",\n        \"num_unique_values\": 1,\n        \"samples\": [\n          \"Paper\"\n        ],\n        \"semantic_type\": \"\",\n        \"description\": \"\"\n      }\n    }\n  ]\n}"
            }
          },
          "metadata": {},
          "execution_count": 70
        }
      ],
      "source": [
        "import pandas as pd\n",
        "\n",
        "socialResults=pd.DataFrame((Players[0], Players[1]))\n",
        "socialResults"
      ]
    },
    {
      "cell_type": "code",
      "execution_count": null,
      "metadata": {
        "id": "s7HrWlt8YOYt",
        "colab": {
          "base_uri": "https://localhost:8080/",
          "height": 112
        },
        "outputId": "a666454c-df3a-49a6-d23c-5958dc9df62b"
      },
      "outputs": [
        {
          "output_type": "execute_result",
          "data": {
            "text/plain": [
              "   name  score strategy\n",
              "0  John      0    Paper\n",
              "1  Mary      0    Paper"
            ],
            "text/html": [
              "\n",
              "  <div id=\"df-0fb8ae24-906d-47a6-a6a4-fdf4637c1e30\" class=\"colab-df-container\">\n",
              "    <div>\n",
              "<style scoped>\n",
              "    .dataframe tbody tr th:only-of-type {\n",
              "        vertical-align: middle;\n",
              "    }\n",
              "\n",
              "    .dataframe tbody tr th {\n",
              "        vertical-align: top;\n",
              "    }\n",
              "\n",
              "    .dataframe thead th {\n",
              "        text-align: right;\n",
              "    }\n",
              "</style>\n",
              "<table border=\"1\" class=\"dataframe\">\n",
              "  <thead>\n",
              "    <tr style=\"text-align: right;\">\n",
              "      <th></th>\n",
              "      <th>name</th>\n",
              "      <th>score</th>\n",
              "      <th>strategy</th>\n",
              "    </tr>\n",
              "  </thead>\n",
              "  <tbody>\n",
              "    <tr>\n",
              "      <th>0</th>\n",
              "      <td>John</td>\n",
              "      <td>0</td>\n",
              "      <td>Paper</td>\n",
              "    </tr>\n",
              "    <tr>\n",
              "      <th>1</th>\n",
              "      <td>Mary</td>\n",
              "      <td>0</td>\n",
              "      <td>Paper</td>\n",
              "    </tr>\n",
              "  </tbody>\n",
              "</table>\n",
              "</div>\n",
              "    <div class=\"colab-df-buttons\">\n",
              "\n",
              "  <div class=\"colab-df-container\">\n",
              "    <button class=\"colab-df-convert\" onclick=\"convertToInteractive('df-0fb8ae24-906d-47a6-a6a4-fdf4637c1e30')\"\n",
              "            title=\"Convert this dataframe to an interactive table.\"\n",
              "            style=\"display:none;\">\n",
              "\n",
              "  <svg xmlns=\"http://www.w3.org/2000/svg\" height=\"24px\" viewBox=\"0 -960 960 960\">\n",
              "    <path d=\"M120-120v-720h720v720H120Zm60-500h600v-160H180v160Zm220 220h160v-160H400v160Zm0 220h160v-160H400v160ZM180-400h160v-160H180v160Zm440 0h160v-160H620v160ZM180-180h160v-160H180v160Zm440 0h160v-160H620v160Z\"/>\n",
              "  </svg>\n",
              "    </button>\n",
              "\n",
              "  <style>\n",
              "    .colab-df-container {\n",
              "      display:flex;\n",
              "      gap: 12px;\n",
              "    }\n",
              "\n",
              "    .colab-df-convert {\n",
              "      background-color: #E8F0FE;\n",
              "      border: none;\n",
              "      border-radius: 50%;\n",
              "      cursor: pointer;\n",
              "      display: none;\n",
              "      fill: #1967D2;\n",
              "      height: 32px;\n",
              "      padding: 0 0 0 0;\n",
              "      width: 32px;\n",
              "    }\n",
              "\n",
              "    .colab-df-convert:hover {\n",
              "      background-color: #E2EBFA;\n",
              "      box-shadow: 0px 1px 2px rgba(60, 64, 67, 0.3), 0px 1px 3px 1px rgba(60, 64, 67, 0.15);\n",
              "      fill: #174EA6;\n",
              "    }\n",
              "\n",
              "    .colab-df-buttons div {\n",
              "      margin-bottom: 4px;\n",
              "    }\n",
              "\n",
              "    [theme=dark] .colab-df-convert {\n",
              "      background-color: #3B4455;\n",
              "      fill: #D2E3FC;\n",
              "    }\n",
              "\n",
              "    [theme=dark] .colab-df-convert:hover {\n",
              "      background-color: #434B5C;\n",
              "      box-shadow: 0px 1px 3px 1px rgba(0, 0, 0, 0.15);\n",
              "      filter: drop-shadow(0px 1px 2px rgba(0, 0, 0, 0.3));\n",
              "      fill: #FFFFFF;\n",
              "    }\n",
              "  </style>\n",
              "\n",
              "    <script>\n",
              "      const buttonEl =\n",
              "        document.querySelector('#df-0fb8ae24-906d-47a6-a6a4-fdf4637c1e30 button.colab-df-convert');\n",
              "      buttonEl.style.display =\n",
              "        google.colab.kernel.accessAllowed ? 'block' : 'none';\n",
              "\n",
              "      async function convertToInteractive(key) {\n",
              "        const element = document.querySelector('#df-0fb8ae24-906d-47a6-a6a4-fdf4637c1e30');\n",
              "        const dataTable =\n",
              "          await google.colab.kernel.invokeFunction('convertToInteractive',\n",
              "                                                    [key], {});\n",
              "        if (!dataTable) return;\n",
              "\n",
              "        const docLinkHtml = 'Like what you see? Visit the ' +\n",
              "          '<a target=\"_blank\" href=https://colab.research.google.com/notebooks/data_table.ipynb>data table notebook</a>'\n",
              "          + ' to learn more about interactive tables.';\n",
              "        element.innerHTML = '';\n",
              "        dataTable['output_type'] = 'display_data';\n",
              "        await google.colab.output.renderOutput(dataTable, element);\n",
              "        const docLink = document.createElement('div');\n",
              "        docLink.innerHTML = docLinkHtml;\n",
              "        element.appendChild(docLink);\n",
              "      }\n",
              "    </script>\n",
              "  </div>\n",
              "\n",
              "\n",
              "<div id=\"df-b93a982c-4919-43cf-ac9e-7c78fc5f4cac\">\n",
              "  <button class=\"colab-df-quickchart\" onclick=\"quickchart('df-b93a982c-4919-43cf-ac9e-7c78fc5f4cac')\"\n",
              "            title=\"Suggest charts\"\n",
              "            style=\"display:none;\">\n",
              "\n",
              "<svg xmlns=\"http://www.w3.org/2000/svg\" height=\"24px\"viewBox=\"0 0 24 24\"\n",
              "     width=\"24px\">\n",
              "    <g>\n",
              "        <path d=\"M19 3H5c-1.1 0-2 .9-2 2v14c0 1.1.9 2 2 2h14c1.1 0 2-.9 2-2V5c0-1.1-.9-2-2-2zM9 17H7v-7h2v7zm4 0h-2V7h2v10zm4 0h-2v-4h2v4z\"/>\n",
              "    </g>\n",
              "</svg>\n",
              "  </button>\n",
              "\n",
              "<style>\n",
              "  .colab-df-quickchart {\n",
              "      --bg-color: #E8F0FE;\n",
              "      --fill-color: #1967D2;\n",
              "      --hover-bg-color: #E2EBFA;\n",
              "      --hover-fill-color: #174EA6;\n",
              "      --disabled-fill-color: #AAA;\n",
              "      --disabled-bg-color: #DDD;\n",
              "  }\n",
              "\n",
              "  [theme=dark] .colab-df-quickchart {\n",
              "      --bg-color: #3B4455;\n",
              "      --fill-color: #D2E3FC;\n",
              "      --hover-bg-color: #434B5C;\n",
              "      --hover-fill-color: #FFFFFF;\n",
              "      --disabled-bg-color: #3B4455;\n",
              "      --disabled-fill-color: #666;\n",
              "  }\n",
              "\n",
              "  .colab-df-quickchart {\n",
              "    background-color: var(--bg-color);\n",
              "    border: none;\n",
              "    border-radius: 50%;\n",
              "    cursor: pointer;\n",
              "    display: none;\n",
              "    fill: var(--fill-color);\n",
              "    height: 32px;\n",
              "    padding: 0;\n",
              "    width: 32px;\n",
              "  }\n",
              "\n",
              "  .colab-df-quickchart:hover {\n",
              "    background-color: var(--hover-bg-color);\n",
              "    box-shadow: 0 1px 2px rgba(60, 64, 67, 0.3), 0 1px 3px 1px rgba(60, 64, 67, 0.15);\n",
              "    fill: var(--button-hover-fill-color);\n",
              "  }\n",
              "\n",
              "  .colab-df-quickchart-complete:disabled,\n",
              "  .colab-df-quickchart-complete:disabled:hover {\n",
              "    background-color: var(--disabled-bg-color);\n",
              "    fill: var(--disabled-fill-color);\n",
              "    box-shadow: none;\n",
              "  }\n",
              "\n",
              "  .colab-df-spinner {\n",
              "    border: 2px solid var(--fill-color);\n",
              "    border-color: transparent;\n",
              "    border-bottom-color: var(--fill-color);\n",
              "    animation:\n",
              "      spin 1s steps(1) infinite;\n",
              "  }\n",
              "\n",
              "  @keyframes spin {\n",
              "    0% {\n",
              "      border-color: transparent;\n",
              "      border-bottom-color: var(--fill-color);\n",
              "      border-left-color: var(--fill-color);\n",
              "    }\n",
              "    20% {\n",
              "      border-color: transparent;\n",
              "      border-left-color: var(--fill-color);\n",
              "      border-top-color: var(--fill-color);\n",
              "    }\n",
              "    30% {\n",
              "      border-color: transparent;\n",
              "      border-left-color: var(--fill-color);\n",
              "      border-top-color: var(--fill-color);\n",
              "      border-right-color: var(--fill-color);\n",
              "    }\n",
              "    40% {\n",
              "      border-color: transparent;\n",
              "      border-right-color: var(--fill-color);\n",
              "      border-top-color: var(--fill-color);\n",
              "    }\n",
              "    60% {\n",
              "      border-color: transparent;\n",
              "      border-right-color: var(--fill-color);\n",
              "    }\n",
              "    80% {\n",
              "      border-color: transparent;\n",
              "      border-right-color: var(--fill-color);\n",
              "      border-bottom-color: var(--fill-color);\n",
              "    }\n",
              "    90% {\n",
              "      border-color: transparent;\n",
              "      border-bottom-color: var(--fill-color);\n",
              "    }\n",
              "  }\n",
              "</style>\n",
              "\n",
              "  <script>\n",
              "    async function quickchart(key) {\n",
              "      const quickchartButtonEl =\n",
              "        document.querySelector('#' + key + ' button');\n",
              "      quickchartButtonEl.disabled = true;  // To prevent multiple clicks.\n",
              "      quickchartButtonEl.classList.add('colab-df-spinner');\n",
              "      try {\n",
              "        const charts = await google.colab.kernel.invokeFunction(\n",
              "            'suggestCharts', [key], {});\n",
              "      } catch (error) {\n",
              "        console.error('Error during call to suggestCharts:', error);\n",
              "      }\n",
              "      quickchartButtonEl.classList.remove('colab-df-spinner');\n",
              "      quickchartButtonEl.classList.add('colab-df-quickchart-complete');\n",
              "    }\n",
              "    (() => {\n",
              "      let quickchartButtonEl =\n",
              "        document.querySelector('#df-b93a982c-4919-43cf-ac9e-7c78fc5f4cac button');\n",
              "      quickchartButtonEl.style.display =\n",
              "        google.colab.kernel.accessAllowed ? 'block' : 'none';\n",
              "    })();\n",
              "  </script>\n",
              "</div>\n",
              "\n",
              "    </div>\n",
              "  </div>\n"
            ],
            "application/vnd.google.colaboratory.intrinsic+json": {
              "type": "dataframe",
              "summary": "{\n  \"name\": \"socialResults[socialResults\",\n  \"rows\": 2,\n  \"fields\": [\n    {\n      \"column\": \"name\",\n      \"properties\": {\n        \"dtype\": \"string\",\n        \"num_unique_values\": 2,\n        \"samples\": [\n          \"Mary\",\n          \"John\"\n        ],\n        \"semantic_type\": \"\",\n        \"description\": \"\"\n      }\n    },\n    {\n      \"column\": \"score\",\n      \"properties\": {\n        \"dtype\": \"number\",\n        \"std\": 0,\n        \"min\": 0,\n        \"max\": 0,\n        \"num_unique_values\": 1,\n        \"samples\": [\n          0\n        ],\n        \"semantic_type\": \"\",\n        \"description\": \"\"\n      }\n    },\n    {\n      \"column\": \"strategy\",\n      \"properties\": {\n        \"dtype\": \"string\",\n        \"num_unique_values\": 1,\n        \"samples\": [\n          \"Paper\"\n        ],\n        \"semantic_type\": \"\",\n        \"description\": \"\"\n      }\n    }\n  ]\n}"
            }
          },
          "metadata": {},
          "execution_count": 71
        }
      ],
      "source": [
        "winnerScore=socialResults.score.max()\n",
        "\n",
        "#social outcome\n",
        "socialResults[socialResults.score==winnerScore]"
      ]
    },
    {
      "cell_type": "markdown",
      "metadata": {
        "id": "GQrfqrRSYOYt"
      },
      "source": [
        "# More players"
      ]
    },
    {
      "cell_type": "code",
      "execution_count": null,
      "metadata": {
        "id": "tgkCQ4x_YOYt"
      },
      "outputs": [],
      "source": [
        "# names of players\n",
        "names=['Jim','Jane','Peter','Zoe']"
      ]
    },
    {
      "cell_type": "code",
      "execution_count": null,
      "metadata": {
        "id": "Cd8rinQSYOYt"
      },
      "outputs": [],
      "source": [
        "# setting up players\n",
        "society=[{'name':n,'score':0,'strategy':None} for n in names]"
      ]
    },
    {
      "cell_type": "code",
      "execution_count": null,
      "metadata": {
        "id": "kJMB8wBDYOYt",
        "colab": {
          "base_uri": "https://localhost:8080/"
        },
        "outputId": "84682a54-f931-4fa1-c229-021ecf117cd9"
      },
      "outputs": [
        {
          "output_type": "execute_result",
          "data": {
            "text/plain": [
              "[{'name': 'Jim', 'score': 0, 'strategy': None},\n",
              " {'name': 'Jane', 'score': 0, 'strategy': None},\n",
              " {'name': 'Peter', 'score': 0, 'strategy': None},\n",
              " {'name': 'Zoe', 'score': 0, 'strategy': None}]"
            ]
          },
          "metadata": {},
          "execution_count": 74
        }
      ],
      "source": [
        "# each player a dict:\n",
        "society"
      ]
    },
    {
      "cell_type": "code",
      "execution_count": null,
      "metadata": {
        "id": "jHr4eN15YOYu",
        "colab": {
          "base_uri": "https://localhost:8080/"
        },
        "outputId": "e185fb9a-016c-4a26-94fe-41a4ddf9836e"
      },
      "outputs": [
        {
          "output_type": "stream",
          "name": "stdout",
          "text": [
            "({'name': 'Jim', 'score': 0, 'strategy': None}, {'name': 'Jane', 'score': 0, 'strategy': None})\n",
            "({'name': 'Jim', 'score': 0, 'strategy': None}, {'name': 'Peter', 'score': 0, 'strategy': None})\n",
            "({'name': 'Jim', 'score': 0, 'strategy': None}, {'name': 'Zoe', 'score': 0, 'strategy': None})\n",
            "({'name': 'Jane', 'score': 0, 'strategy': None}, {'name': 'Peter', 'score': 0, 'strategy': None})\n",
            "({'name': 'Jane', 'score': 0, 'strategy': None}, {'name': 'Zoe', 'score': 0, 'strategy': None})\n",
            "({'name': 'Peter', 'score': 0, 'strategy': None}, {'name': 'Zoe', 'score': 0, 'strategy': None})\n"
          ]
        }
      ],
      "source": [
        "import itertools\n",
        "\n",
        "# pair is a tuple of dicts\n",
        "for pair in itertools.combinations(society,2):\n",
        "    print(pair)"
      ]
    },
    {
      "cell_type": "code",
      "execution_count": null,
      "metadata": {
        "id": "sePRsKjvYOYu",
        "colab": {
          "base_uri": "https://localhost:8080/"
        },
        "outputId": "1528db46-2cb3-413f-9015-6313fff3fddc"
      },
      "outputs": [
        {
          "output_type": "stream",
          "name": "stdout",
          "text": [
            "{'name': 'Jim', 'score': 0, 'strategy': None} {'name': 'Jane', 'score': 0, 'strategy': None}\n",
            "{'name': 'Jim', 'score': 0, 'strategy': None} {'name': 'Peter', 'score': 0, 'strategy': None}\n",
            "{'name': 'Jim', 'score': 0, 'strategy': None} {'name': 'Zoe', 'score': 0, 'strategy': None}\n",
            "{'name': 'Jane', 'score': 0, 'strategy': None} {'name': 'Peter', 'score': 0, 'strategy': None}\n",
            "{'name': 'Jane', 'score': 0, 'strategy': None} {'name': 'Zoe', 'score': 0, 'strategy': None}\n",
            "{'name': 'Peter', 'score': 0, 'strategy': None} {'name': 'Zoe', 'score': 0, 'strategy': None}\n"
          ]
        }
      ],
      "source": [
        "import itertools\n",
        "\n",
        "# each dict\n",
        "for player1,player2 in itertools.combinations(society,2):\n",
        "    print(player1,player2)"
      ]
    },
    {
      "cell_type": "code",
      "execution_count": null,
      "metadata": {
        "id": "zNVRiMHhYOYu"
      },
      "outputs": [],
      "source": [
        "# resetting society\n",
        "society=[{'name':n,'score':0,'strategy':None} for n in names]\n",
        "\n",
        "# several rounds\n",
        "for aRound in range(100):\n",
        "\n",
        "    # en each round:\n",
        "    for player1,player2 in itertools.combinations(society,2):\n",
        "        # each chooses strategy\n",
        "        player1['strategy']=choice(strategies)\n",
        "\n",
        "        player2['strategy']=choice(strategies)\n",
        "\n",
        "        # result from strategy chosen\n",
        "        result=payoff[player1['strategy'],player2['strategy']]\n",
        "\n",
        "        # update scores\n",
        "        player1['score']+=result[0]\n",
        "        player2['score']+=result[1]\n"
      ]
    },
    {
      "cell_type": "code",
      "execution_count": null,
      "metadata": {
        "id": "XQbHOpa9YOYu",
        "colab": {
          "base_uri": "https://localhost:8080/"
        },
        "outputId": "034e7b45-c0c6-467f-fba9-9ccf05cfdd21"
      },
      "outputs": [
        {
          "output_type": "execute_result",
          "data": {
            "text/plain": [
              "[{'name': 'Jim', 'score': 104, 'strategy': 'Paper'},\n",
              " {'name': 'Jane', 'score': 101, 'strategy': 'Paper'},\n",
              " {'name': 'Peter', 'score': 102, 'strategy': 'Paper'},\n",
              " {'name': 'Zoe', 'score': 97, 'strategy': 'Rock'}]"
            ]
          },
          "metadata": {},
          "execution_count": 78
        }
      ],
      "source": [
        "# final situation\n",
        "society"
      ]
    },
    {
      "cell_type": "code",
      "execution_count": null,
      "metadata": {
        "id": "RLb_Z1QwYOYu",
        "colab": {
          "base_uri": "https://localhost:8080/",
          "height": 175
        },
        "outputId": "5fb1ee8d-0e3d-4507-a8f1-ac920552415d"
      },
      "outputs": [
        {
          "output_type": "execute_result",
          "data": {
            "text/plain": [
              "    name  score strategy\n",
              "0    Jim    104    Paper\n",
              "1   Jane    101    Paper\n",
              "2  Peter    102    Paper\n",
              "3    Zoe     97     Rock"
            ],
            "text/html": [
              "\n",
              "  <div id=\"df-d85f6941-39b4-4cd6-a4f1-728c6f85d61a\" class=\"colab-df-container\">\n",
              "    <div>\n",
              "<style scoped>\n",
              "    .dataframe tbody tr th:only-of-type {\n",
              "        vertical-align: middle;\n",
              "    }\n",
              "\n",
              "    .dataframe tbody tr th {\n",
              "        vertical-align: top;\n",
              "    }\n",
              "\n",
              "    .dataframe thead th {\n",
              "        text-align: right;\n",
              "    }\n",
              "</style>\n",
              "<table border=\"1\" class=\"dataframe\">\n",
              "  <thead>\n",
              "    <tr style=\"text-align: right;\">\n",
              "      <th></th>\n",
              "      <th>name</th>\n",
              "      <th>score</th>\n",
              "      <th>strategy</th>\n",
              "    </tr>\n",
              "  </thead>\n",
              "  <tbody>\n",
              "    <tr>\n",
              "      <th>0</th>\n",
              "      <td>Jim</td>\n",
              "      <td>104</td>\n",
              "      <td>Paper</td>\n",
              "    </tr>\n",
              "    <tr>\n",
              "      <th>1</th>\n",
              "      <td>Jane</td>\n",
              "      <td>101</td>\n",
              "      <td>Paper</td>\n",
              "    </tr>\n",
              "    <tr>\n",
              "      <th>2</th>\n",
              "      <td>Peter</td>\n",
              "      <td>102</td>\n",
              "      <td>Paper</td>\n",
              "    </tr>\n",
              "    <tr>\n",
              "      <th>3</th>\n",
              "      <td>Zoe</td>\n",
              "      <td>97</td>\n",
              "      <td>Rock</td>\n",
              "    </tr>\n",
              "  </tbody>\n",
              "</table>\n",
              "</div>\n",
              "    <div class=\"colab-df-buttons\">\n",
              "\n",
              "  <div class=\"colab-df-container\">\n",
              "    <button class=\"colab-df-convert\" onclick=\"convertToInteractive('df-d85f6941-39b4-4cd6-a4f1-728c6f85d61a')\"\n",
              "            title=\"Convert this dataframe to an interactive table.\"\n",
              "            style=\"display:none;\">\n",
              "\n",
              "  <svg xmlns=\"http://www.w3.org/2000/svg\" height=\"24px\" viewBox=\"0 -960 960 960\">\n",
              "    <path d=\"M120-120v-720h720v720H120Zm60-500h600v-160H180v160Zm220 220h160v-160H400v160Zm0 220h160v-160H400v160ZM180-400h160v-160H180v160Zm440 0h160v-160H620v160ZM180-180h160v-160H180v160Zm440 0h160v-160H620v160Z\"/>\n",
              "  </svg>\n",
              "    </button>\n",
              "\n",
              "  <style>\n",
              "    .colab-df-container {\n",
              "      display:flex;\n",
              "      gap: 12px;\n",
              "    }\n",
              "\n",
              "    .colab-df-convert {\n",
              "      background-color: #E8F0FE;\n",
              "      border: none;\n",
              "      border-radius: 50%;\n",
              "      cursor: pointer;\n",
              "      display: none;\n",
              "      fill: #1967D2;\n",
              "      height: 32px;\n",
              "      padding: 0 0 0 0;\n",
              "      width: 32px;\n",
              "    }\n",
              "\n",
              "    .colab-df-convert:hover {\n",
              "      background-color: #E2EBFA;\n",
              "      box-shadow: 0px 1px 2px rgba(60, 64, 67, 0.3), 0px 1px 3px 1px rgba(60, 64, 67, 0.15);\n",
              "      fill: #174EA6;\n",
              "    }\n",
              "\n",
              "    .colab-df-buttons div {\n",
              "      margin-bottom: 4px;\n",
              "    }\n",
              "\n",
              "    [theme=dark] .colab-df-convert {\n",
              "      background-color: #3B4455;\n",
              "      fill: #D2E3FC;\n",
              "    }\n",
              "\n",
              "    [theme=dark] .colab-df-convert:hover {\n",
              "      background-color: #434B5C;\n",
              "      box-shadow: 0px 1px 3px 1px rgba(0, 0, 0, 0.15);\n",
              "      filter: drop-shadow(0px 1px 2px rgba(0, 0, 0, 0.3));\n",
              "      fill: #FFFFFF;\n",
              "    }\n",
              "  </style>\n",
              "\n",
              "    <script>\n",
              "      const buttonEl =\n",
              "        document.querySelector('#df-d85f6941-39b4-4cd6-a4f1-728c6f85d61a button.colab-df-convert');\n",
              "      buttonEl.style.display =\n",
              "        google.colab.kernel.accessAllowed ? 'block' : 'none';\n",
              "\n",
              "      async function convertToInteractive(key) {\n",
              "        const element = document.querySelector('#df-d85f6941-39b4-4cd6-a4f1-728c6f85d61a');\n",
              "        const dataTable =\n",
              "          await google.colab.kernel.invokeFunction('convertToInteractive',\n",
              "                                                    [key], {});\n",
              "        if (!dataTable) return;\n",
              "\n",
              "        const docLinkHtml = 'Like what you see? Visit the ' +\n",
              "          '<a target=\"_blank\" href=https://colab.research.google.com/notebooks/data_table.ipynb>data table notebook</a>'\n",
              "          + ' to learn more about interactive tables.';\n",
              "        element.innerHTML = '';\n",
              "        dataTable['output_type'] = 'display_data';\n",
              "        await google.colab.output.renderOutput(dataTable, element);\n",
              "        const docLink = document.createElement('div');\n",
              "        docLink.innerHTML = docLinkHtml;\n",
              "        element.appendChild(docLink);\n",
              "      }\n",
              "    </script>\n",
              "  </div>\n",
              "\n",
              "\n",
              "<div id=\"df-91f141d6-0b87-403a-99f8-3a46929b58e4\">\n",
              "  <button class=\"colab-df-quickchart\" onclick=\"quickchart('df-91f141d6-0b87-403a-99f8-3a46929b58e4')\"\n",
              "            title=\"Suggest charts\"\n",
              "            style=\"display:none;\">\n",
              "\n",
              "<svg xmlns=\"http://www.w3.org/2000/svg\" height=\"24px\"viewBox=\"0 0 24 24\"\n",
              "     width=\"24px\">\n",
              "    <g>\n",
              "        <path d=\"M19 3H5c-1.1 0-2 .9-2 2v14c0 1.1.9 2 2 2h14c1.1 0 2-.9 2-2V5c0-1.1-.9-2-2-2zM9 17H7v-7h2v7zm4 0h-2V7h2v10zm4 0h-2v-4h2v4z\"/>\n",
              "    </g>\n",
              "</svg>\n",
              "  </button>\n",
              "\n",
              "<style>\n",
              "  .colab-df-quickchart {\n",
              "      --bg-color: #E8F0FE;\n",
              "      --fill-color: #1967D2;\n",
              "      --hover-bg-color: #E2EBFA;\n",
              "      --hover-fill-color: #174EA6;\n",
              "      --disabled-fill-color: #AAA;\n",
              "      --disabled-bg-color: #DDD;\n",
              "  }\n",
              "\n",
              "  [theme=dark] .colab-df-quickchart {\n",
              "      --bg-color: #3B4455;\n",
              "      --fill-color: #D2E3FC;\n",
              "      --hover-bg-color: #434B5C;\n",
              "      --hover-fill-color: #FFFFFF;\n",
              "      --disabled-bg-color: #3B4455;\n",
              "      --disabled-fill-color: #666;\n",
              "  }\n",
              "\n",
              "  .colab-df-quickchart {\n",
              "    background-color: var(--bg-color);\n",
              "    border: none;\n",
              "    border-radius: 50%;\n",
              "    cursor: pointer;\n",
              "    display: none;\n",
              "    fill: var(--fill-color);\n",
              "    height: 32px;\n",
              "    padding: 0;\n",
              "    width: 32px;\n",
              "  }\n",
              "\n",
              "  .colab-df-quickchart:hover {\n",
              "    background-color: var(--hover-bg-color);\n",
              "    box-shadow: 0 1px 2px rgba(60, 64, 67, 0.3), 0 1px 3px 1px rgba(60, 64, 67, 0.15);\n",
              "    fill: var(--button-hover-fill-color);\n",
              "  }\n",
              "\n",
              "  .colab-df-quickchart-complete:disabled,\n",
              "  .colab-df-quickchart-complete:disabled:hover {\n",
              "    background-color: var(--disabled-bg-color);\n",
              "    fill: var(--disabled-fill-color);\n",
              "    box-shadow: none;\n",
              "  }\n",
              "\n",
              "  .colab-df-spinner {\n",
              "    border: 2px solid var(--fill-color);\n",
              "    border-color: transparent;\n",
              "    border-bottom-color: var(--fill-color);\n",
              "    animation:\n",
              "      spin 1s steps(1) infinite;\n",
              "  }\n",
              "\n",
              "  @keyframes spin {\n",
              "    0% {\n",
              "      border-color: transparent;\n",
              "      border-bottom-color: var(--fill-color);\n",
              "      border-left-color: var(--fill-color);\n",
              "    }\n",
              "    20% {\n",
              "      border-color: transparent;\n",
              "      border-left-color: var(--fill-color);\n",
              "      border-top-color: var(--fill-color);\n",
              "    }\n",
              "    30% {\n",
              "      border-color: transparent;\n",
              "      border-left-color: var(--fill-color);\n",
              "      border-top-color: var(--fill-color);\n",
              "      border-right-color: var(--fill-color);\n",
              "    }\n",
              "    40% {\n",
              "      border-color: transparent;\n",
              "      border-right-color: var(--fill-color);\n",
              "      border-top-color: var(--fill-color);\n",
              "    }\n",
              "    60% {\n",
              "      border-color: transparent;\n",
              "      border-right-color: var(--fill-color);\n",
              "    }\n",
              "    80% {\n",
              "      border-color: transparent;\n",
              "      border-right-color: var(--fill-color);\n",
              "      border-bottom-color: var(--fill-color);\n",
              "    }\n",
              "    90% {\n",
              "      border-color: transparent;\n",
              "      border-bottom-color: var(--fill-color);\n",
              "    }\n",
              "  }\n",
              "</style>\n",
              "\n",
              "  <script>\n",
              "    async function quickchart(key) {\n",
              "      const quickchartButtonEl =\n",
              "        document.querySelector('#' + key + ' button');\n",
              "      quickchartButtonEl.disabled = true;  // To prevent multiple clicks.\n",
              "      quickchartButtonEl.classList.add('colab-df-spinner');\n",
              "      try {\n",
              "        const charts = await google.colab.kernel.invokeFunction(\n",
              "            'suggestCharts', [key], {});\n",
              "      } catch (error) {\n",
              "        console.error('Error during call to suggestCharts:', error);\n",
              "      }\n",
              "      quickchartButtonEl.classList.remove('colab-df-spinner');\n",
              "      quickchartButtonEl.classList.add('colab-df-quickchart-complete');\n",
              "    }\n",
              "    (() => {\n",
              "      let quickchartButtonEl =\n",
              "        document.querySelector('#df-91f141d6-0b87-403a-99f8-3a46929b58e4 button');\n",
              "      quickchartButtonEl.style.display =\n",
              "        google.colab.kernel.accessAllowed ? 'block' : 'none';\n",
              "    })();\n",
              "  </script>\n",
              "</div>\n",
              "\n",
              "  <div id=\"id_15f61d9e-9b66-4f00-8262-0c9cde09974c\">\n",
              "    <style>\n",
              "      .colab-df-generate {\n",
              "        background-color: #E8F0FE;\n",
              "        border: none;\n",
              "        border-radius: 50%;\n",
              "        cursor: pointer;\n",
              "        display: none;\n",
              "        fill: #1967D2;\n",
              "        height: 32px;\n",
              "        padding: 0 0 0 0;\n",
              "        width: 32px;\n",
              "      }\n",
              "\n",
              "      .colab-df-generate:hover {\n",
              "        background-color: #E2EBFA;\n",
              "        box-shadow: 0px 1px 2px rgba(60, 64, 67, 0.3), 0px 1px 3px 1px rgba(60, 64, 67, 0.15);\n",
              "        fill: #174EA6;\n",
              "      }\n",
              "\n",
              "      [theme=dark] .colab-df-generate {\n",
              "        background-color: #3B4455;\n",
              "        fill: #D2E3FC;\n",
              "      }\n",
              "\n",
              "      [theme=dark] .colab-df-generate:hover {\n",
              "        background-color: #434B5C;\n",
              "        box-shadow: 0px 1px 3px 1px rgba(0, 0, 0, 0.15);\n",
              "        filter: drop-shadow(0px 1px 2px rgba(0, 0, 0, 0.3));\n",
              "        fill: #FFFFFF;\n",
              "      }\n",
              "    </style>\n",
              "    <button class=\"colab-df-generate\" onclick=\"generateWithVariable('socialResults')\"\n",
              "            title=\"Generate code using this dataframe.\"\n",
              "            style=\"display:none;\">\n",
              "\n",
              "  <svg xmlns=\"http://www.w3.org/2000/svg\" height=\"24px\"viewBox=\"0 0 24 24\"\n",
              "       width=\"24px\">\n",
              "    <path d=\"M7,19H8.4L18.45,9,17,7.55,7,17.6ZM5,21V16.75L18.45,3.32a2,2,0,0,1,2.83,0l1.4,1.43a1.91,1.91,0,0,1,.58,1.4,1.91,1.91,0,0,1-.58,1.4L9.25,21ZM18.45,9,17,7.55Zm-12,3A5.31,5.31,0,0,0,4.9,8.1,5.31,5.31,0,0,0,1,6.5,5.31,5.31,0,0,0,4.9,4.9,5.31,5.31,0,0,0,6.5,1,5.31,5.31,0,0,0,8.1,4.9,5.31,5.31,0,0,0,12,6.5,5.46,5.46,0,0,0,6.5,12Z\"/>\n",
              "  </svg>\n",
              "    </button>\n",
              "    <script>\n",
              "      (() => {\n",
              "      const buttonEl =\n",
              "        document.querySelector('#id_15f61d9e-9b66-4f00-8262-0c9cde09974c button.colab-df-generate');\n",
              "      buttonEl.style.display =\n",
              "        google.colab.kernel.accessAllowed ? 'block' : 'none';\n",
              "\n",
              "      buttonEl.onclick = () => {\n",
              "        google.colab.notebook.generateWithVariable('socialResults');\n",
              "      }\n",
              "      })();\n",
              "    </script>\n",
              "  </div>\n",
              "\n",
              "    </div>\n",
              "  </div>\n"
            ],
            "application/vnd.google.colaboratory.intrinsic+json": {
              "type": "dataframe",
              "variable_name": "socialResults",
              "summary": "{\n  \"name\": \"socialResults\",\n  \"rows\": 4,\n  \"fields\": [\n    {\n      \"column\": \"name\",\n      \"properties\": {\n        \"dtype\": \"string\",\n        \"num_unique_values\": 4,\n        \"samples\": [\n          \"Jane\",\n          \"Zoe\",\n          \"Jim\"\n        ],\n        \"semantic_type\": \"\",\n        \"description\": \"\"\n      }\n    },\n    {\n      \"column\": \"score\",\n      \"properties\": {\n        \"dtype\": \"number\",\n        \"std\": 2,\n        \"min\": 97,\n        \"max\": 104,\n        \"num_unique_values\": 4,\n        \"samples\": [\n          101,\n          97,\n          104\n        ],\n        \"semantic_type\": \"\",\n        \"description\": \"\"\n      }\n    },\n    {\n      \"column\": \"strategy\",\n      \"properties\": {\n        \"dtype\": \"string\",\n        \"num_unique_values\": 2,\n        \"samples\": [\n          \"Rock\",\n          \"Paper\"\n        ],\n        \"semantic_type\": \"\",\n        \"description\": \"\"\n      }\n    }\n  ]\n}"
            }
          },
          "metadata": {},
          "execution_count": 79
        }
      ],
      "source": [
        "# as a data frame\n",
        "socialResults=pd.DataFrame(society)\n",
        "socialResults"
      ]
    },
    {
      "cell_type": "code",
      "execution_count": null,
      "metadata": {
        "id": "wteAmjL6YOYv",
        "colab": {
          "base_uri": "https://localhost:8080/",
          "height": 81
        },
        "outputId": "37f865aa-5318-4eef-de86-93ed0e24c5d4"
      },
      "outputs": [
        {
          "output_type": "execute_result",
          "data": {
            "text/plain": [
              "  name  score strategy\n",
              "0  Jim    104    Paper"
            ],
            "text/html": [
              "\n",
              "  <div id=\"df-50091863-aa89-425d-a90d-0cd5ec4aa0d4\" class=\"colab-df-container\">\n",
              "    <div>\n",
              "<style scoped>\n",
              "    .dataframe tbody tr th:only-of-type {\n",
              "        vertical-align: middle;\n",
              "    }\n",
              "\n",
              "    .dataframe tbody tr th {\n",
              "        vertical-align: top;\n",
              "    }\n",
              "\n",
              "    .dataframe thead th {\n",
              "        text-align: right;\n",
              "    }\n",
              "</style>\n",
              "<table border=\"1\" class=\"dataframe\">\n",
              "  <thead>\n",
              "    <tr style=\"text-align: right;\">\n",
              "      <th></th>\n",
              "      <th>name</th>\n",
              "      <th>score</th>\n",
              "      <th>strategy</th>\n",
              "    </tr>\n",
              "  </thead>\n",
              "  <tbody>\n",
              "    <tr>\n",
              "      <th>0</th>\n",
              "      <td>Jim</td>\n",
              "      <td>104</td>\n",
              "      <td>Paper</td>\n",
              "    </tr>\n",
              "  </tbody>\n",
              "</table>\n",
              "</div>\n",
              "    <div class=\"colab-df-buttons\">\n",
              "\n",
              "  <div class=\"colab-df-container\">\n",
              "    <button class=\"colab-df-convert\" onclick=\"convertToInteractive('df-50091863-aa89-425d-a90d-0cd5ec4aa0d4')\"\n",
              "            title=\"Convert this dataframe to an interactive table.\"\n",
              "            style=\"display:none;\">\n",
              "\n",
              "  <svg xmlns=\"http://www.w3.org/2000/svg\" height=\"24px\" viewBox=\"0 -960 960 960\">\n",
              "    <path d=\"M120-120v-720h720v720H120Zm60-500h600v-160H180v160Zm220 220h160v-160H400v160Zm0 220h160v-160H400v160ZM180-400h160v-160H180v160Zm440 0h160v-160H620v160ZM180-180h160v-160H180v160Zm440 0h160v-160H620v160Z\"/>\n",
              "  </svg>\n",
              "    </button>\n",
              "\n",
              "  <style>\n",
              "    .colab-df-container {\n",
              "      display:flex;\n",
              "      gap: 12px;\n",
              "    }\n",
              "\n",
              "    .colab-df-convert {\n",
              "      background-color: #E8F0FE;\n",
              "      border: none;\n",
              "      border-radius: 50%;\n",
              "      cursor: pointer;\n",
              "      display: none;\n",
              "      fill: #1967D2;\n",
              "      height: 32px;\n",
              "      padding: 0 0 0 0;\n",
              "      width: 32px;\n",
              "    }\n",
              "\n",
              "    .colab-df-convert:hover {\n",
              "      background-color: #E2EBFA;\n",
              "      box-shadow: 0px 1px 2px rgba(60, 64, 67, 0.3), 0px 1px 3px 1px rgba(60, 64, 67, 0.15);\n",
              "      fill: #174EA6;\n",
              "    }\n",
              "\n",
              "    .colab-df-buttons div {\n",
              "      margin-bottom: 4px;\n",
              "    }\n",
              "\n",
              "    [theme=dark] .colab-df-convert {\n",
              "      background-color: #3B4455;\n",
              "      fill: #D2E3FC;\n",
              "    }\n",
              "\n",
              "    [theme=dark] .colab-df-convert:hover {\n",
              "      background-color: #434B5C;\n",
              "      box-shadow: 0px 1px 3px 1px rgba(0, 0, 0, 0.15);\n",
              "      filter: drop-shadow(0px 1px 2px rgba(0, 0, 0, 0.3));\n",
              "      fill: #FFFFFF;\n",
              "    }\n",
              "  </style>\n",
              "\n",
              "    <script>\n",
              "      const buttonEl =\n",
              "        document.querySelector('#df-50091863-aa89-425d-a90d-0cd5ec4aa0d4 button.colab-df-convert');\n",
              "      buttonEl.style.display =\n",
              "        google.colab.kernel.accessAllowed ? 'block' : 'none';\n",
              "\n",
              "      async function convertToInteractive(key) {\n",
              "        const element = document.querySelector('#df-50091863-aa89-425d-a90d-0cd5ec4aa0d4');\n",
              "        const dataTable =\n",
              "          await google.colab.kernel.invokeFunction('convertToInteractive',\n",
              "                                                    [key], {});\n",
              "        if (!dataTable) return;\n",
              "\n",
              "        const docLinkHtml = 'Like what you see? Visit the ' +\n",
              "          '<a target=\"_blank\" href=https://colab.research.google.com/notebooks/data_table.ipynb>data table notebook</a>'\n",
              "          + ' to learn more about interactive tables.';\n",
              "        element.innerHTML = '';\n",
              "        dataTable['output_type'] = 'display_data';\n",
              "        await google.colab.output.renderOutput(dataTable, element);\n",
              "        const docLink = document.createElement('div');\n",
              "        docLink.innerHTML = docLinkHtml;\n",
              "        element.appendChild(docLink);\n",
              "      }\n",
              "    </script>\n",
              "  </div>\n",
              "\n",
              "\n",
              "    </div>\n",
              "  </div>\n"
            ],
            "application/vnd.google.colaboratory.intrinsic+json": {
              "type": "dataframe",
              "summary": "{\n  \"name\": \"socialResults[socialResults\",\n  \"rows\": 1,\n  \"fields\": [\n    {\n      \"column\": \"name\",\n      \"properties\": {\n        \"dtype\": \"string\",\n        \"num_unique_values\": 1,\n        \"samples\": [\n          \"Jim\"\n        ],\n        \"semantic_type\": \"\",\n        \"description\": \"\"\n      }\n    },\n    {\n      \"column\": \"score\",\n      \"properties\": {\n        \"dtype\": \"number\",\n        \"std\": null,\n        \"min\": 104,\n        \"max\": 104,\n        \"num_unique_values\": 1,\n        \"samples\": [\n          104\n        ],\n        \"semantic_type\": \"\",\n        \"description\": \"\"\n      }\n    },\n    {\n      \"column\": \"strategy\",\n      \"properties\": {\n        \"dtype\": \"string\",\n        \"num_unique_values\": 1,\n        \"samples\": [\n          \"Paper\"\n        ],\n        \"semantic_type\": \"\",\n        \"description\": \"\"\n      }\n    }\n  ]\n}"
            }
          },
          "metadata": {},
          "execution_count": 80
        }
      ],
      "source": [
        "winnerScore=socialResults.score.max()\n",
        "\n",
        "#social outcome\n",
        "socialResults[socialResults.score==winnerScore]"
      ]
    },
    {
      "cell_type": "markdown",
      "metadata": {
        "id": "kvORV8_vYOYv"
      },
      "source": [
        "### Exercise 1\n",
        "<div class=\"alert-success\">\n",
        "\n",
        "Where would you add this code to see live the results of this last tournament?\n",
        "    \n",
        "</div>"
      ]
    },
    {
      "cell_type": "code",
      "source": [
        "# society\n",
        "society = [{'name':n,'score':0,'strategy':None} for n in names]\n",
        "\n",
        "# Preparamos los rounds\n",
        "round_results = []\n",
        "\n",
        "# que sean varios\n",
        "for aRound in range(20):\n",
        "\n",
        "    # en cada round\n",
        "    for player1, player2 in itertools.combinations(society, 2):\n",
        "        # estrategias\n",
        "        player1['strategy'] = choice(strategies)\n",
        "        player2['strategy'] = choice(strategies)\n",
        "\n",
        "        result = payoff[(player1['strategy'], player2['strategy'])]\n",
        "\n",
        "        # los scores\n",
        "        player1['score'] += result[0]\n",
        "        player2['score'] += result[1]\n",
        "\n",
        "    # estado de cada round\n",
        "    round_results.append(pd.DataFrame(society))\n",
        "\n",
        "# final\n",
        "final_society = society\n",
        "\n",
        "# resultados en dataframe\n",
        "socialResults = pd.DataFrame(final_society)\n",
        "print(socialResults)\n",
        "\n",
        "# ver ganador\n",
        "winnerScore = socialResults.score.max()\n",
        "winners = socialResults[socialResults.score == winnerScore]\n",
        "print(winners)\n",
        "\n",
        "# mostrar resultados en vivo\n",
        "for round_num, result in enumerate(round_results):\n",
        "    print(f\"Round {round_num + 1} results:\")\n",
        "    print(result)\n",
        "    print(\"\\n\")\n"
      ],
      "metadata": {
        "colab": {
          "base_uri": "https://localhost:8080/"
        },
        "id": "xxgC40ltYgMs",
        "outputId": "70264c77-4fe2-4d7e-ee54-980d6aa893e5"
      },
      "execution_count": null,
      "outputs": [
        {
          "output_type": "stream",
          "name": "stdout",
          "text": [
            "    name  score  strategy\n",
            "0    Jim     25      Rock\n",
            "1   Jane     23      Rock\n",
            "2  Peter     21     Paper\n",
            "3    Zoe     17  Scissors\n",
            "  name  score strategy\n",
            "0  Jim     25     Rock\n",
            "Round 1 results:\n",
            "    name  score  strategy\n",
            "0    Jim      1  Scissors\n",
            "1   Jane      1  Scissors\n",
            "2  Peter      1     Paper\n",
            "3    Zoe      0      Rock\n",
            "\n",
            "\n",
            "Round 2 results:\n",
            "    name  score  strategy\n",
            "0    Jim      3     Paper\n",
            "1   Jane      1  Scissors\n",
            "2  Peter      2  Scissors\n",
            "3    Zoe      1     Paper\n",
            "\n",
            "\n",
            "Round 3 results:\n",
            "    name  score strategy\n",
            "0    Jim      4    Paper\n",
            "1   Jane      2     Rock\n",
            "2  Peter      4    Paper\n",
            "3    Zoe      2     Rock\n",
            "\n",
            "\n",
            "Round 4 results:\n",
            "    name  score strategy\n",
            "0    Jim      6     Rock\n",
            "1   Jane      4    Paper\n",
            "2  Peter      4     Rock\n",
            "3    Zoe      3    Paper\n",
            "\n",
            "\n",
            "Round 5 results:\n",
            "    name  score  strategy\n",
            "0    Jim      7  Scissors\n",
            "1   Jane      5      Rock\n",
            "2  Peter      6  Scissors\n",
            "3    Zoe      5     Paper\n",
            "\n",
            "\n",
            "Round 6 results:\n",
            "    name  score strategy\n",
            "0    Jim      8    Paper\n",
            "1   Jane      6     Rock\n",
            "2  Peter      8    Paper\n",
            "3    Zoe      6     Rock\n",
            "\n",
            "\n",
            "Round 7 results:\n",
            "    name  score  strategy\n",
            "0    Jim     10     Paper\n",
            "1   Jane      7  Scissors\n",
            "2  Peter      8  Scissors\n",
            "3    Zoe      6  Scissors\n",
            "\n",
            "\n",
            "Round 8 results:\n",
            "    name  score  strategy\n",
            "0    Jim     11      Rock\n",
            "1   Jane      7      Rock\n",
            "2  Peter      9      Rock\n",
            "3    Zoe      7  Scissors\n",
            "\n",
            "\n",
            "Round 9 results:\n",
            "    name  score strategy\n",
            "0    Jim     12     Rock\n",
            "1   Jane      7     Rock\n",
            "2  Peter      9     Rock\n",
            "3    Zoe      8    Paper\n",
            "\n",
            "\n",
            "Round 10 results:\n",
            "    name  score  strategy\n",
            "0    Jim     12  Scissors\n",
            "1   Jane      9      Rock\n",
            "2  Peter     10     Paper\n",
            "3    Zoe      9  Scissors\n",
            "\n",
            "\n",
            "Round 11 results:\n",
            "    name  score  strategy\n",
            "0    Jim     15  Scissors\n",
            "1   Jane     10     Paper\n",
            "2  Peter     11     Paper\n",
            "3    Zoe     10      Rock\n",
            "\n",
            "\n",
            "Round 12 results:\n",
            "    name  score  strategy\n",
            "0    Jim     17     Paper\n",
            "1   Jane     10     Paper\n",
            "2  Peter     12      Rock\n",
            "3    Zoe     11  Scissors\n",
            "\n",
            "\n",
            "Round 13 results:\n",
            "    name  score  strategy\n",
            "0    Jim     18     Paper\n",
            "1   Jane     13      Rock\n",
            "2  Peter     12  Scissors\n",
            "3    Zoe     12  Scissors\n",
            "\n",
            "\n",
            "Round 14 results:\n",
            "    name  score  strategy\n",
            "0    Jim     19  Scissors\n",
            "1   Jane     14  Scissors\n",
            "2  Peter     13  Scissors\n",
            "3    Zoe     13      Rock\n",
            "\n",
            "\n",
            "Round 15 results:\n",
            "    name  score  strategy\n",
            "0    Jim     20     Paper\n",
            "1   Jane     15     Paper\n",
            "2  Peter     16  Scissors\n",
            "3    Zoe     13     Paper\n",
            "\n",
            "\n",
            "Round 16 results:\n",
            "    name  score  strategy\n",
            "0    Jim     20  Scissors\n",
            "1   Jane     17  Scissors\n",
            "2  Peter     18     Paper\n",
            "3    Zoe     14      Rock\n",
            "\n",
            "\n",
            "Round 17 results:\n",
            "    name  score strategy\n",
            "0    Jim     22    Paper\n",
            "1   Jane     18     Rock\n",
            "2  Peter     19     Rock\n",
            "3    Zoe     15    Paper\n",
            "\n",
            "\n",
            "Round 18 results:\n",
            "    name  score strategy\n",
            "0    Jim     22     Rock\n",
            "1   Jane     19     Rock\n",
            "2  Peter     20    Paper\n",
            "3    Zoe     16    Paper\n",
            "\n",
            "\n",
            "Round 19 results:\n",
            "    name  score  strategy\n",
            "0    Jim     23  Scissors\n",
            "1   Jane     20  Scissors\n",
            "2  Peter     21      Rock\n",
            "3    Zoe     16      Rock\n",
            "\n",
            "\n",
            "Round 20 results:\n",
            "    name  score  strategy\n",
            "0    Jim     25      Rock\n",
            "1   Jane     23      Rock\n",
            "2  Peter     21     Paper\n",
            "3    Zoe     17  Scissors\n",
            "\n",
            "\n"
          ]
        }
      ]
    },
    {
      "cell_type": "markdown",
      "metadata": {
        "id": "nif-veHLYOYv"
      },
      "source": [
        "### Exercise 2\n",
        "<div class=\"alert-success\">\n",
        "\n",
        "How would you implement this game for 10 players, and get the results?\n",
        "    \n",
        "</div>\n",
        "<img src=\"https://i.imgur.com/DE5mjs4.jpg\"/>"
      ]
    },
    {
      "cell_type": "code",
      "source": [
        "# Nombres\n",
        "names = ['Jim', 'Jane', 'Peter', 'Zoe', 'Edgar', 'Jose', 'Charles', 'Pedrito', 'Ricardo', 'Paco']\n",
        "\n",
        "# seteamos society\n",
        "society = [{'name': n, 'score': 0, 'strategy': None} for n in names]\n",
        "\n",
        "# Resultados\n",
        "round_results = []\n",
        "\n",
        "# Rounds\n",
        "for aRound in range(20):\n",
        "\n",
        "    # en cada round\n",
        "    for player1, player2 in itertools.combinations(society, 2):\n",
        "        # each chooses strategy\n",
        "        player1['strategy'] = choice(strategies)\n",
        "        player2['strategy'] = choice(strategies)\n",
        "\n",
        "        # resultado\n",
        "        result = payoff[(player1['strategy'], player2['strategy'])]\n",
        "\n",
        "        # score\n",
        "        player1['score'] += result[0]\n",
        "        player2['score'] += result[1]\n",
        "\n",
        "    round_results.append(pd.DataFrame(society))\n",
        "\n",
        "# final\n",
        "final_society = society\n",
        "\n",
        "# final como dataframe\n",
        "socialResults = pd.DataFrame(final_society)\n",
        "print(socialResults)\n",
        "\n",
        "# ganador\n",
        "winnerScore = socialResults.score.max()\n",
        "winners = socialResults[socialResults.score == winnerScore]\n",
        "print(winners)\n",
        "\n",
        "# resultados en vivo\n",
        "for round_num, result in enumerate(round_results):\n",
        "    print(f\"Round {round_num + 1} results:\")\n",
        "    print(result)\n",
        "    print(\"\\n\")"
      ],
      "metadata": {
        "colab": {
          "base_uri": "https://localhost:8080/"
        },
        "id": "2vwJeULmZzVz",
        "outputId": "5c4625f4-4661-4a72-e35a-b617cf9a7646"
      },
      "execution_count": null,
      "outputs": [
        {
          "output_type": "stream",
          "name": "stdout",
          "text": [
            "      name  score  strategy\n",
            "0      Jim     54      Rock\n",
            "1     Jane     53     Paper\n",
            "2    Peter     66      Rock\n",
            "3      Zoe     58  Scissors\n",
            "4    Edgar     57     Paper\n",
            "5     Jose     46      Rock\n",
            "6  Charles     60      Rock\n",
            "7  Pedrito     55     Paper\n",
            "8  Ricardo     57      Rock\n",
            "9     Paco     56      Rock\n",
            "    name  score strategy\n",
            "2  Peter     66     Rock\n",
            "Round 1 results:\n",
            "      name  score  strategy\n",
            "0      Jim      0  Scissors\n",
            "1     Jane      1      Rock\n",
            "2    Peter      3  Scissors\n",
            "3      Zoe      6      Rock\n",
            "4    Edgar      4  Scissors\n",
            "5     Jose      5     Paper\n",
            "6  Charles      2      Rock\n",
            "7  Pedrito      3     Paper\n",
            "8  Ricardo      2  Scissors\n",
            "9     Paco      2     Paper\n",
            "\n",
            "\n",
            "Round 2 results:\n",
            "      name  score  strategy\n",
            "0      Jim      2  Scissors\n",
            "1     Jane      3      Rock\n",
            "2    Peter      5      Rock\n",
            "3      Zoe      9  Scissors\n",
            "4    Edgar      9     Paper\n",
            "5     Jose     10     Paper\n",
            "6  Charles      4  Scissors\n",
            "7  Pedrito      5      Rock\n",
            "8  Ricardo      5     Paper\n",
            "9     Paco      7      Rock\n",
            "\n",
            "\n",
            "Round 3 results:\n",
            "      name  score  strategy\n",
            "0      Jim      4      Rock\n",
            "1     Jane      7  Scissors\n",
            "2    Peter      9  Scissors\n",
            "3      Zoe     14      Rock\n",
            "4    Edgar     10  Scissors\n",
            "5     Jose     13     Paper\n",
            "6  Charles      4     Paper\n",
            "7  Pedrito      8  Scissors\n",
            "8  Ricardo      9  Scissors\n",
            "9     Paco     11     Paper\n",
            "\n",
            "\n",
            "Round 4 results:\n",
            "      name  score  strategy\n",
            "0      Jim      5  Scissors\n",
            "1     Jane      8      Rock\n",
            "2    Peter     13  Scissors\n",
            "3      Zoe     18  Scissors\n",
            "4    Edgar     13  Scissors\n",
            "5     Jose     15      Rock\n",
            "6  Charles      7  Scissors\n",
            "7  Pedrito     12      Rock\n",
            "8  Ricardo     13      Rock\n",
            "9     Paco     14  Scissors\n",
            "\n",
            "\n",
            "Round 5 results:\n",
            "      name  score  strategy\n",
            "0      Jim      9     Paper\n",
            "1     Jane     11      Rock\n",
            "2    Peter     18      Rock\n",
            "3      Zoe     19  Scissors\n",
            "4    Edgar     16  Scissors\n",
            "5     Jose     16  Scissors\n",
            "6  Charles     10      Rock\n",
            "7  Pedrito     13     Paper\n",
            "8  Ricardo     15  Scissors\n",
            "9     Paco     16  Scissors\n",
            "\n",
            "\n",
            "Round 6 results:\n",
            "      name  score  strategy\n",
            "0      Jim     12     Paper\n",
            "1     Jane     13     Paper\n",
            "2    Peter     19      Rock\n",
            "3      Zoe     22     Paper\n",
            "4    Edgar     18  Scissors\n",
            "5     Jose     17  Scissors\n",
            "6  Charles     16      Rock\n",
            "7  Pedrito     17  Scissors\n",
            "8  Ricardo     17     Paper\n",
            "9     Paco     17      Rock\n",
            "\n",
            "\n",
            "Round 7 results:\n",
            "      name  score  strategy\n",
            "0      Jim     15     Paper\n",
            "1     Jane     14  Scissors\n",
            "2    Peter     24  Scissors\n",
            "3      Zoe     25     Paper\n",
            "4    Edgar     21     Paper\n",
            "5     Jose     19  Scissors\n",
            "6  Charles     19  Scissors\n",
            "7  Pedrito     19      Rock\n",
            "8  Ricardo     20      Rock\n",
            "9     Paco     19      Rock\n",
            "\n",
            "\n",
            "Round 8 results:\n",
            "      name  score  strategy\n",
            "0      Jim     17     Paper\n",
            "1     Jane     19  Scissors\n",
            "2    Peter     32     Paper\n",
            "3      Zoe     28  Scissors\n",
            "4    Edgar     23      Rock\n",
            "5     Jose     23  Scissors\n",
            "6  Charles     21     Paper\n",
            "7  Pedrito     22     Paper\n",
            "8  Ricardo     23     Paper\n",
            "9     Paco     22      Rock\n",
            "\n",
            "\n",
            "Round 9 results:\n",
            "      name  score  strategy\n",
            "0      Jim     18      Rock\n",
            "1     Jane     24  Scissors\n",
            "2    Peter     34     Paper\n",
            "3      Zoe     31      Rock\n",
            "4    Edgar     25      Rock\n",
            "5     Jose     26     Paper\n",
            "6  Charles     25     Paper\n",
            "7  Pedrito     27  Scissors\n",
            "8  Ricardo     28      Rock\n",
            "9     Paco     27     Paper\n",
            "\n",
            "\n",
            "Round 10 results:\n",
            "      name  score  strategy\n",
            "0      Jim     21  Scissors\n",
            "1     Jane     27  Scissors\n",
            "2    Peter     37      Rock\n",
            "3      Zoe     32     Paper\n",
            "4    Edgar     27  Scissors\n",
            "5     Jose     27     Paper\n",
            "6  Charles     28      Rock\n",
            "7  Pedrito     31      Rock\n",
            "8  Ricardo     31  Scissors\n",
            "9     Paco     30      Rock\n",
            "\n",
            "\n",
            "Round 11 results:\n",
            "      name  score  strategy\n",
            "0      Jim     25     Paper\n",
            "1     Jane     29     Paper\n",
            "2    Peter     42      Rock\n",
            "3      Zoe     35  Scissors\n",
            "4    Edgar     29     Paper\n",
            "5     Jose     30     Paper\n",
            "6  Charles     32      Rock\n",
            "7  Pedrito     32  Scissors\n",
            "8  Ricardo     32     Paper\n",
            "9     Paco     32  Scissors\n",
            "\n",
            "\n",
            "Round 12 results:\n",
            "      name  score  strategy\n",
            "0      Jim     26  Scissors\n",
            "1     Jane     32      Rock\n",
            "2    Peter     44      Rock\n",
            "3      Zoe     38  Scissors\n",
            "4    Edgar     31      Rock\n",
            "5     Jose     32     Paper\n",
            "6  Charles     34  Scissors\n",
            "7  Pedrito     34     Paper\n",
            "8  Ricardo     35      Rock\n",
            "9     Paco     35      Rock\n",
            "\n",
            "\n",
            "Round 13 results:\n",
            "      name  score  strategy\n",
            "0      Jim     29      Rock\n",
            "1     Jane     34  Scissors\n",
            "2    Peter     45     Paper\n",
            "3      Zoe     42     Paper\n",
            "4    Edgar     34     Paper\n",
            "5     Jose     34     Paper\n",
            "6  Charles     38      Rock\n",
            "7  Pedrito     36     Paper\n",
            "8  Ricardo     36     Paper\n",
            "9     Paco     38     Paper\n",
            "\n",
            "\n",
            "Round 14 results:\n",
            "      name  score  strategy\n",
            "0      Jim     33  Scissors\n",
            "1     Jane     37     Paper\n",
            "2    Peter     47      Rock\n",
            "3      Zoe     45     Paper\n",
            "4    Edgar     37     Paper\n",
            "5     Jose     37  Scissors\n",
            "6  Charles     39  Scissors\n",
            "7  Pedrito     39      Rock\n",
            "8  Ricardo     37      Rock\n",
            "9     Paco     42     Paper\n",
            "\n",
            "\n",
            "Round 15 results:\n",
            "      name  score  strategy\n",
            "0      Jim     37     Paper\n",
            "1     Jane     40  Scissors\n",
            "2    Peter     47      Rock\n",
            "3      Zoe     46  Scissors\n",
            "4    Edgar     42     Paper\n",
            "5     Jose     37      Rock\n",
            "6  Charles     41  Scissors\n",
            "7  Pedrito     40      Rock\n",
            "8  Ricardo     43  Scissors\n",
            "9     Paco     44     Paper\n",
            "\n",
            "\n",
            "Round 16 results:\n",
            "      name  score  strategy\n",
            "0      Jim     41  Scissors\n",
            "1     Jane     43  Scissors\n",
            "2    Peter     50      Rock\n",
            "3      Zoe     48      Rock\n",
            "4    Edgar     45     Paper\n",
            "5     Jose     39      Rock\n",
            "6  Charles     46  Scissors\n",
            "7  Pedrito     42     Paper\n",
            "8  Ricardo     44     Paper\n",
            "9     Paco     46     Paper\n",
            "\n",
            "\n",
            "Round 17 results:\n",
            "      name  score  strategy\n",
            "0      Jim     45  Scissors\n",
            "1     Jane     46     Paper\n",
            "2    Peter     54     Paper\n",
            "3      Zoe     50      Rock\n",
            "4    Edgar     47  Scissors\n",
            "5     Jose     40  Scissors\n",
            "6  Charles     49     Paper\n",
            "7  Pedrito     48     Paper\n",
            "8  Ricardo     48     Paper\n",
            "9     Paco     49      Rock\n",
            "\n",
            "\n",
            "Round 18 results:\n",
            "      name  score  strategy\n",
            "0      Jim     52  Scissors\n",
            "1     Jane     46  Scissors\n",
            "2    Peter     60     Paper\n",
            "3      Zoe     53      Rock\n",
            "4    Edgar     50      Rock\n",
            "5     Jose     43  Scissors\n",
            "6  Charles     53  Scissors\n",
            "7  Pedrito     50  Scissors\n",
            "8  Ricardo     50     Paper\n",
            "9     Paco     51  Scissors\n",
            "\n",
            "\n",
            "Round 19 results:\n",
            "      name  score  strategy\n",
            "0      Jim     54  Scissors\n",
            "1     Jane     49     Paper\n",
            "2    Peter     64      Rock\n",
            "3      Zoe     55  Scissors\n",
            "4    Edgar     54     Paper\n",
            "5     Jose     45      Rock\n",
            "6  Charles     56      Rock\n",
            "7  Pedrito     52      Rock\n",
            "8  Ricardo     54  Scissors\n",
            "9     Paco     53  Scissors\n",
            "\n",
            "\n",
            "Round 20 results:\n",
            "      name  score  strategy\n",
            "0      Jim     54      Rock\n",
            "1     Jane     53     Paper\n",
            "2    Peter     66      Rock\n",
            "3      Zoe     58  Scissors\n",
            "4    Edgar     57     Paper\n",
            "5     Jose     46      Rock\n",
            "6  Charles     60      Rock\n",
            "7  Pedrito     55     Paper\n",
            "8  Ricardo     57      Rock\n",
            "9     Paco     56      Rock\n",
            "\n",
            "\n"
          ]
        }
      ]
    },
    {
      "cell_type": "markdown",
      "metadata": {
        "id": "PDRw0HIzYOYw"
      },
      "source": [
        "# Abstraction of agents\n",
        "\n",
        "Let's see some abstraction known 'OOP', which stands for Objetc-Oriented Programming.\n",
        "\n",
        "* This is the creation of an agent object and its methods:"
      ]
    },
    {
      "cell_type": "code",
      "execution_count": null,
      "metadata": {
        "id": "7nXXw84XYOYw"
      },
      "outputs": [],
      "source": [
        "class Player:    # object class\n",
        "\n",
        "    def __init__(self,name,score=0): # create the object (self) for the class\n",
        "        self.name=name               # with some variables\n",
        "        self.score=score\n",
        "\n",
        "\n",
        "\n",
        "    def increase_score(self,value):  # metho for object class\n",
        "        self.score+=value"
      ]
    },
    {
      "cell_type": "markdown",
      "metadata": {
        "id": "t685VCd7YOYw"
      },
      "source": [
        "Once created, you can give origin to instances of the object:"
      ]
    },
    {
      "cell_type": "code",
      "execution_count": null,
      "metadata": {
        "id": "cUA4LQvAYOYw"
      },
      "outputs": [],
      "source": [
        "Mary=Player(\"Mary\")\n",
        "John=Player(\"John\")"
      ]
    },
    {
      "cell_type": "markdown",
      "metadata": {
        "id": "nhZJGRxXYOY2"
      },
      "source": [
        "Let's use some previous code:"
      ]
    },
    {
      "cell_type": "code",
      "execution_count": null,
      "metadata": {
        "id": "aYPV5tFLYOY2",
        "colab": {
          "base_uri": "https://localhost:8080/"
        },
        "outputId": "f791b1c3-57e7-4133-bda3-a8a160930544"
      },
      "outputs": [
        {
          "output_type": "execute_result",
          "data": {
            "text/plain": [
              "(1, 0)"
            ]
          },
          "metadata": {},
          "execution_count": 90
        }
      ],
      "source": [
        "John_strategy=choice(strategies)\n",
        "Mary_strategy=choice(strategies)\n",
        "\n",
        "John_PayOff,Mary_PayOff=payoff[John_strategy,Mary_strategy]\n",
        "John_PayOff,Mary_PayOff"
      ]
    },
    {
      "cell_type": "markdown",
      "metadata": {
        "id": "N_XMLTBWYOY2"
      },
      "source": [
        "We use those values to change the instaces' variables, as defined in the object class:"
      ]
    },
    {
      "cell_type": "code",
      "execution_count": null,
      "metadata": {
        "id": "stTjJXViYOY2"
      },
      "outputs": [],
      "source": [
        "John.increase_score(John_PayOff)\n",
        "Mary.increase_score(Mary_PayOff)"
      ]
    },
    {
      "cell_type": "markdown",
      "metadata": {
        "id": "B7rd8mP0YOY3"
      },
      "source": [
        "The instances did update the score:"
      ]
    },
    {
      "cell_type": "code",
      "execution_count": null,
      "metadata": {
        "id": "-FCZbQm7YOY3",
        "colab": {
          "base_uri": "https://localhost:8080/"
        },
        "outputId": "d3b170d4-bcf1-4405-d2e4-0e3aa5f61d98"
      },
      "outputs": [
        {
          "output_type": "execute_result",
          "data": {
            "text/plain": [
              "(1, 0)"
            ]
          },
          "metadata": {},
          "execution_count": 92
        }
      ],
      "source": [
        "John.score, Mary.score"
      ]
    },
    {
      "cell_type": "markdown",
      "metadata": {
        "id": "lSdGoCZ3YOY3"
      },
      "source": [
        "* A new class that inherists previous class:"
      ]
    },
    {
      "cell_type": "code",
      "execution_count": null,
      "metadata": {
        "id": "Or9S8jPaYOY3"
      },
      "outputs": [],
      "source": [
        "class PlayerBetter(Player):\n",
        "    def __init__(self,name,score=0):\n",
        "        Player.__init__(self,name,score=0)\n",
        "        self.strategy=None\n",
        "\n",
        "    def increase_score(self,value):\n",
        "        self.score+=value\n",
        "\n",
        "    def get_strategy(self):\n",
        "        from random import choice\n",
        "        strategies=['Rock','Paper','Scissors']\n",
        "        self.strategy=choice(strategies)\n",
        "        return self.strategy"
      ]
    },
    {
      "cell_type": "markdown",
      "metadata": {
        "id": "6C3APsxGYOY4"
      },
      "source": [
        "We can use the new class:"
      ]
    },
    {
      "cell_type": "code",
      "execution_count": null,
      "metadata": {
        "id": "Ejn8LATFYOY4",
        "colab": {
          "base_uri": "https://localhost:8080/"
        },
        "outputId": "bb5ad108-cd31-4673-beaa-2306a79e9d9a"
      },
      "outputs": [
        {
          "output_type": "execute_result",
          "data": {
            "text/plain": [
              "(0, 1)"
            ]
          },
          "metadata": {},
          "execution_count": 94
        }
      ],
      "source": [
        "Mary=PlayerBetter(\"Mary\")\n",
        "John=PlayerBetter(\"John\")\n",
        "\n",
        "# not needed\n",
        "# John_strategy=choice(strategies)\n",
        "# Mary_strategy=choice(strategies)\n",
        "\n",
        "John_PayOff,Mary_PayOff=payoff[John.get_strategy(),Mary.get_strategy()]\n",
        "John.increase_score(John_PayOff)\n",
        "Mary.increase_score(Mary_PayOff)\n",
        "##\n",
        "John.score, Mary.score"
      ]
    },
    {
      "cell_type": "markdown",
      "metadata": {
        "id": "HM_vzlLGYOY4"
      },
      "source": [
        "The new class saves the current strategy:"
      ]
    },
    {
      "cell_type": "code",
      "execution_count": null,
      "metadata": {
        "id": "cnxCsXLcYOY4",
        "colab": {
          "base_uri": "https://localhost:8080/"
        },
        "outputId": "829370f5-4be9-48f8-ab10-f073bfc6c5d3"
      },
      "outputs": [
        {
          "output_type": "stream",
          "name": "stdout",
          "text": [
            "Rock Paper\n"
          ]
        }
      ],
      "source": [
        "print(John.strategy, Mary.strategy)"
      ]
    },
    {
      "cell_type": "markdown",
      "metadata": {
        "id": "y-7DtSQdYOY5"
      },
      "source": [
        "We can use the new class repeatedly:"
      ]
    },
    {
      "cell_type": "code",
      "execution_count": null,
      "metadata": {
        "id": "PKLadcvpYOY5",
        "colab": {
          "base_uri": "https://localhost:8080/"
        },
        "outputId": "b633a96f-89c0-4b83-9bea-dbb482f157d3"
      },
      "outputs": [
        {
          "output_type": "stream",
          "name": "stdout",
          "text": [
            "round: 1\n",
            "0 1\n",
            "Rock Paper\n",
            "round: 2\n",
            "0 1\n",
            "Paper Paper\n",
            "round: 3\n",
            "1 1\n",
            "Scissors Paper\n",
            "round: 4\n",
            "1 2\n",
            "Scissors Rock\n",
            "round: 5\n",
            "1 2\n",
            "Scissors Scissors\n",
            "round: 6\n",
            "1 3\n",
            "Rock Paper\n",
            "round: 7\n",
            "1 4\n",
            "Paper Scissors\n",
            "round: 8\n",
            "2 4\n",
            "Scissors Paper\n",
            "round: 9\n",
            "2 5\n",
            "Paper Scissors\n",
            "round: 10\n",
            "2 6\n",
            "Paper Scissors\n"
          ]
        }
      ],
      "source": [
        "Mary=PlayerBetter(\"Mary\")\n",
        "John=PlayerBetter(\"John\")\n",
        "\n",
        "for i in range(10):\n",
        "    John_PayOff,Mary_PayOff=payoff[John.get_strategy(),Mary.get_strategy()]\n",
        "    John.increase_score(John_PayOff)\n",
        "    Mary.increase_score(Mary_PayOff)\n",
        "    # see current result\n",
        "    print('round:',i+1)\n",
        "    print(John.score, Mary.score)\n",
        "    print(John.strategy, Mary.strategy)"
      ]
    },
    {
      "cell_type": "markdown",
      "metadata": {
        "id": "TA66WhMFYOY5"
      },
      "source": [
        "<div class=\"alert alert-danger\">\n",
        "  <strong>CHALLENGE!</strong>\n",
        "   <br> * Create classes that allows you to have several players play 100 rounds.\n",
        "   <br> * Save the scores.\n",
        "   <br> * Declare a winner\n",
        "</div>"
      ]
    }
  ],
  "metadata": {
    "hide_input": false,
    "kernelspec": {
      "display_name": "Python 3 (ipykernel)",
      "language": "python",
      "name": "python3"
    },
    "language_info": {
      "codemirror_mode": {
        "name": "ipython",
        "version": 3
      },
      "file_extension": ".py",
      "mimetype": "text/x-python",
      "name": "python",
      "nbconvert_exporter": "python",
      "pygments_lexer": "ipython3",
      "version": "3.11.5"
    },
    "colab": {
      "provenance": [],
      "include_colab_link": true
    }
  },
  "nbformat": 4,
  "nbformat_minor": 0
}