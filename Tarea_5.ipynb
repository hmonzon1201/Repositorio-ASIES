{
  "cells": [
    {
      "cell_type": "markdown",
      "metadata": {
        "id": "view-in-github",
        "colab_type": "text"
      },
      "source": [
        "<a href=\"https://colab.research.google.com/github/hmonzon1201/Repositorio-ASIES/blob/main/Tarea_5.ipynb\" target=\"_parent\"><img src=\"https://colab.research.google.com/assets/colab-badge.svg\" alt=\"Open In Colab\"/></a>"
      ]
    },
    {
      "cell_type": "markdown",
      "id": "bf472169-6e43-457a-9f03-5d2ba114f047",
      "metadata": {
        "id": "bf472169-6e43-457a-9f03-5d2ba114f047"
      },
      "source": [
        "## Ejercicio 1"
      ]
    },
    {
      "cell_type": "code",
      "execution_count": null,
      "id": "22c06b8e-a1a2-4562-987d-6d97499a0335",
      "metadata": {
        "id": "22c06b8e-a1a2-4562-987d-6d97499a0335"
      },
      "outputs": [],
      "source": [
        "import pulp as pp\n",
        "\n",
        "# Define the problem\n",
        "model = pp.LpProblem(name=\"supplement-problem\", sense=pp.LpMinimize)"
      ]
    },
    {
      "cell_type": "code",
      "execution_count": null,
      "id": "2d3be911-a7f3-4716-8952-a3aec6b451d1",
      "metadata": {
        "id": "2d3be911-a7f3-4716-8952-a3aec6b451d1"
      },
      "outputs": [],
      "source": [
        "# Define the variables\n",
        "VegaVita = pp.LpVariable(name=\"VegaVita\", lowBound=0, cat='Integer')\n",
        "HappyHealth = pp.LpVariable(name=\"HappyHealth\", lowBound=0, cat='Integer')"
      ]
    },
    {
      "cell_type": "code",
      "execution_count": null,
      "id": "50cdfeb9-8a2d-490e-be77-7f1be67d4bc0",
      "metadata": {
        "id": "50cdfeb9-8a2d-490e-be77-7f1be67d4bc0"
      },
      "outputs": [],
      "source": [
        "# Define the objective function (minimize cost)\n",
        "cost_VegaVita = 0.20\n",
        "cost_HappyHealth = 0.30\n",
        "obj_func = cost_VegaVita * VegaVita + cost_HappyHealth * HappyHealth\n",
        "model += obj_func"
      ]
    },
    {
      "cell_type": "code",
      "execution_count": null,
      "id": "fcb7a37e-645b-4d32-b339-d5beeb06f4d9",
      "metadata": {
        "id": "fcb7a37e-645b-4d32-b339-d5beeb06f4d9"
      },
      "outputs": [],
      "source": [
        "# Define the constraints\n",
        "vitC_req = 60\n",
        "calcium_req = 1000\n",
        "iron_req = 18\n",
        "niacin_req = 20\n",
        "magnesium_req = 360\n",
        "\n",
        "vitC_VegaVita = 20\n",
        "calcium_VegaVita = 500\n",
        "iron_VegaVita = 9\n",
        "niacin_VegaVita = 2\n",
        "magnesium_VegaVita = 60\n",
        "\n",
        "vitC_HappyHealth = 30\n",
        "calcium_HappyHealth = 250\n",
        "iron_HappyHealth = 2\n",
        "niacin_HappyHealth = 10\n",
        "magnesium_HappyHealth = 90"
      ]
    },
    {
      "cell_type": "code",
      "execution_count": null,
      "id": "8d425e6a-4fb8-4211-b256-be9a12d1ea8d",
      "metadata": {
        "id": "8d425e6a-4fb8-4211-b256-be9a12d1ea8d"
      },
      "outputs": [],
      "source": [
        "# Vitamin C constraint\n",
        "C1 = pp.LpConstraint(name='Vitamin C Constraint',\n",
        "                     e=vitC_VegaVita*VegaVita + vitC_HappyHealth*HappyHealth,\n",
        "                     rhs=vitC_req,\n",
        "                     sense=pp.LpConstraintGE)\n",
        "\n",
        "# Calcium constraint\n",
        "C2 = pp.LpConstraint(name='Calcium Constraint',\n",
        "                     e=calcium_VegaVita*VegaVita + calcium_HappyHealth*HappyHealth,\n",
        "                     rhs=calcium_req,\n",
        "                     sense=pp.LpConstraintGE)\n",
        "\n",
        "# Iron constraint\n",
        "C3 = pp.LpConstraint(name='Iron Constraint',\n",
        "                     e=iron_VegaVita*VegaVita + iron_HappyHealth*HappyHealth,\n",
        "                     rhs=iron_req,\n",
        "                     sense=pp.LpConstraintGE)\n",
        "\n",
        "# Niacin constraint\n",
        "C4 = pp.LpConstraint(name='Niacin Constraint',\n",
        "                     e=niacin_VegaVita*VegaVita + niacin_HappyHealth*HappyHealth,\n",
        "                     rhs=niacin_req,\n",
        "                     sense=pp.LpConstraintGE)\n",
        "\n",
        "# Magnesium constraint\n",
        "C5 = pp.LpConstraint(name='Magnesium Constraint',\n",
        "                     e=magnesium_VegaVita*VegaVita + magnesium_HappyHealth*HappyHealth,\n",
        "                     rhs=magnesium_req,\n",
        "                     sense=pp.LpConstraintGE)"
      ]
    },
    {
      "cell_type": "code",
      "execution_count": null,
      "id": "7bc88ea0-a2c2-4625-bb6c-d21717f2aca6",
      "metadata": {
        "id": "7bc88ea0-a2c2-4625-bb6c-d21717f2aca6"
      },
      "outputs": [],
      "source": [
        "# Add constraints to the model\n",
        "model += C1\n",
        "model += C2\n",
        "model += C3\n",
        "model += C4\n",
        "model += C5"
      ]
    },
    {
      "cell_type": "code",
      "execution_count": null,
      "id": "7a9d6366-7b79-4157-b5ea-6f2d7a159a1e",
      "metadata": {
        "id": "7a9d6366-7b79-4157-b5ea-6f2d7a159a1e"
      },
      "outputs": [],
      "source": [
        "# Solve the problem\n",
        "solver = pp.COIN_CMD(msg=False)\n",
        "model.solve(solver)"
      ]
    },
    {
      "cell_type": "code",
      "execution_count": null,
      "id": "fae8dee1-b97e-41c4-a6e9-9c0ef1f1067e",
      "metadata": {
        "id": "fae8dee1-b97e-41c4-a6e9-9c0ef1f1067e"
      },
      "outputs": [],
      "source": [
        "# Print the results\n",
        "Results = {\"Model Status\": pp.LpStatus[model.status]}\n",
        "Results.update({\"Optimal Solution\": pp.value(model.objective)})\n",
        "Results.update({v.name: v.varValue for v in model.variables()})\n",
        "print(Results)"
      ]
    },
    {
      "cell_type": "markdown",
      "id": "f6bf3edb-635d-4617-bc97-fbde9ec1ff04",
      "metadata": {
        "id": "f6bf3edb-635d-4617-bc97-fbde9ec1ff04"
      },
      "source": [
        "## Ejercicio 2"
      ]
    },
    {
      "cell_type": "code",
      "execution_count": null,
      "id": "dfc017a8-6df8-45d1-b877-ba27551e1db1",
      "metadata": {
        "id": "dfc017a8-6df8-45d1-b877-ba27551e1db1"
      },
      "outputs": [],
      "source": [
        "# calling the function\n",
        "from ahp.ahp import AHP"
      ]
    },
    {
      "cell_type": "code",
      "execution_count": null,
      "id": "bf31fe19-8158-4bf7-b30b-b07478ee1ec6",
      "metadata": {
        "id": "bf31fe19-8158-4bf7-b30b-b07478ee1ec6"
      },
      "outputs": [],
      "source": [
        "import pandas as pd\n",
        "\n",
        "pairwise_costliving=pd.read_excel(\"ahp_masters.xlsx\",sheet_name='costliving', index_col=0)\n",
        "pairwise_academics=pd.read_excel(\"ahp_masters.xlsx\",sheet_name='academics', index_col=0)\n",
        "pairwise_jobopport=pd.read_excel(\"ahp_masters.xlsx\",sheet_name='jobopport', index_col=0)\n",
        "pairwise_language=pd.read_excel(\"ahp_masters.xlsx\",sheet_name='language', index_col=0)\n",
        "pairwise_criteria=pd.read_excel(\"ahp_masters.xlsx\",sheet_name='criteria', index_col=0)"
      ]
    },
    {
      "cell_type": "markdown",
      "id": "da30f39d-7f04-4334-be16-45c757ff16bb",
      "metadata": {
        "id": "da30f39d-7f04-4334-be16-45c757ff16bb"
      },
      "source": [
        "Se observa el orden de las columnas:"
      ]
    },
    {
      "cell_type": "code",
      "execution_count": null,
      "id": "28e355f5-7072-466a-b18d-67c38c7ca010",
      "metadata": {
        "id": "28e355f5-7072-466a-b18d-67c38c7ca010",
        "outputId": "26800052-0562-4c32-b3da-bf84f719a3ce"
      },
      "outputs": [
        {
          "data": {
            "text/html": [
              "<div>\n",
              "<style scoped>\n",
              "    .dataframe tbody tr th:only-of-type {\n",
              "        vertical-align: middle;\n",
              "    }\n",
              "\n",
              "    .dataframe tbody tr th {\n",
              "        vertical-align: top;\n",
              "    }\n",
              "\n",
              "    .dataframe thead th {\n",
              "        text-align: right;\n",
              "    }\n",
              "</style>\n",
              "<table border=\"1\" class=\"dataframe\">\n",
              "  <thead>\n",
              "    <tr style=\"text-align: right;\">\n",
              "      <th></th>\n",
              "      <th>costliving</th>\n",
              "      <th>academics</th>\n",
              "      <th>jobopport</th>\n",
              "      <th>language</th>\n",
              "    </tr>\n",
              "  </thead>\n",
              "  <tbody>\n",
              "    <tr>\n",
              "      <th>costliving</th>\n",
              "      <td>1.000000</td>\n",
              "      <td>2.000000</td>\n",
              "      <td>4.000000</td>\n",
              "      <td>6</td>\n",
              "    </tr>\n",
              "    <tr>\n",
              "      <th>academics</th>\n",
              "      <td>0.500000</td>\n",
              "      <td>1.000000</td>\n",
              "      <td>3.000000</td>\n",
              "      <td>4</td>\n",
              "    </tr>\n",
              "    <tr>\n",
              "      <th>jobopport</th>\n",
              "      <td>0.250000</td>\n",
              "      <td>0.333333</td>\n",
              "      <td>1.000000</td>\n",
              "      <td>3</td>\n",
              "    </tr>\n",
              "    <tr>\n",
              "      <th>language</th>\n",
              "      <td>0.166667</td>\n",
              "      <td>0.250000</td>\n",
              "      <td>0.333333</td>\n",
              "      <td>1</td>\n",
              "    </tr>\n",
              "  </tbody>\n",
              "</table>\n",
              "</div>"
            ],
            "text/plain": [
              "            costliving  academics  jobopport  language\n",
              "costliving    1.000000   2.000000   4.000000         6\n",
              "academics     0.500000   1.000000   3.000000         4\n",
              "jobopport     0.250000   0.333333   1.000000         3\n",
              "language      0.166667   0.250000   0.333333         1"
            ]
          },
          "execution_count": 3,
          "metadata": {},
          "output_type": "execute_result"
        }
      ],
      "source": [
        "pairwise_criteria"
      ]
    },
    {
      "cell_type": "code",
      "execution_count": null,
      "id": "fd9c2997-2555-43df-8c82-aaa591318953",
      "metadata": {
        "id": "fd9c2997-2555-43df-8c82-aaa591318953"
      },
      "outputs": [],
      "source": [
        "# Se sigue el mismo orden que en el criterio\n",
        "data = [pairwise_costliving.values.tolist(),\n",
        "        pairwise_academics.values.tolist(),\n",
        "        pairwise_jobopport.values.tolist(),\n",
        "        pairwise_language.values.tolist(),\n",
        "        pairwise_criteria.values.tolist()]"
      ]
    },
    {
      "cell_type": "markdown",
      "id": "297d9a35-561e-4844-ab6a-9f7d582dbbaf",
      "metadata": {
        "id": "297d9a35-561e-4844-ab6a-9f7d582dbbaf"
      },
      "source": [
        "Implementación del modelo AHP:"
      ]
    },
    {
      "cell_type": "code",
      "execution_count": null,
      "id": "e7781335-db3d-48e1-925b-ad24fbcaca0f",
      "metadata": {
        "id": "e7781335-db3d-48e1-925b-ad24fbcaca0f"
      },
      "outputs": [],
      "source": [
        "ahp = AHP()\n",
        "ahp.fit(data)"
      ]
    },
    {
      "cell_type": "code",
      "execution_count": null,
      "id": "e8d1cfc0-e428-4424-9e24-2ad0c30a8eb0",
      "metadata": {
        "id": "e8d1cfc0-e428-4424-9e24-2ad0c30a8eb0",
        "outputId": "aa28c835-cc8b-4053-d994-d6faf13825fa"
      },
      "outputs": [
        {
          "data": {
            "text/html": [
              "<div>\n",
              "<style scoped>\n",
              "    .dataframe tbody tr th:only-of-type {\n",
              "        vertical-align: middle;\n",
              "    }\n",
              "\n",
              "    .dataframe tbody tr th {\n",
              "        vertical-align: top;\n",
              "    }\n",
              "\n",
              "    .dataframe thead th {\n",
              "        text-align: right;\n",
              "    }\n",
              "</style>\n",
              "<table border=\"1\" class=\"dataframe\">\n",
              "  <thead>\n",
              "    <tr style=\"text-align: right;\">\n",
              "      <th></th>\n",
              "      <th>Score</th>\n",
              "      <th>Ranking</th>\n",
              "    </tr>\n",
              "  </thead>\n",
              "  <tbody>\n",
              "    <tr>\n",
              "      <th>Brazil</th>\n",
              "      <td>0.330573</td>\n",
              "      <td>1.0</td>\n",
              "    </tr>\n",
              "    <tr>\n",
              "      <th>USA</th>\n",
              "      <td>0.242286</td>\n",
              "      <td>2.0</td>\n",
              "    </tr>\n",
              "    <tr>\n",
              "      <th>France</th>\n",
              "      <td>0.138482</td>\n",
              "      <td>5.0</td>\n",
              "    </tr>\n",
              "    <tr>\n",
              "      <th>England</th>\n",
              "      <td>0.145873</td>\n",
              "      <td>3.0</td>\n",
              "    </tr>\n",
              "    <tr>\n",
              "      <th>Germany</th>\n",
              "      <td>0.142786</td>\n",
              "      <td>4.0</td>\n",
              "    </tr>\n",
              "  </tbody>\n",
              "</table>\n",
              "</div>"
            ],
            "text/plain": [
              "            Score  Ranking\n",
              "Brazil   0.330573      1.0\n",
              "USA      0.242286      2.0\n",
              "France   0.138482      5.0\n",
              "England  0.145873      3.0\n",
              "Germany  0.142786      4.0"
            ]
          },
          "execution_count": 7,
          "metadata": {},
          "output_type": "execute_result"
        }
      ],
      "source": [
        "Solution=pd.DataFrame(index=pairwise_jobopport.index)\n",
        "Solution['Score']=ahp.classificate()\n",
        "Solution['Ranking']=Solution.Score.rank(ascending=False)\n",
        "Solution"
      ]
    }
  ],
  "metadata": {
    "kernelspec": {
      "display_name": "Python 3 (ipykernel)",
      "language": "python",
      "name": "python3"
    },
    "language_info": {
      "codemirror_mode": {
        "name": "ipython",
        "version": 3
      },
      "file_extension": ".py",
      "mimetype": "text/x-python",
      "name": "python",
      "nbconvert_exporter": "python",
      "pygments_lexer": "ipython3",
      "version": "3.11.7"
    },
    "colab": {
      "provenance": [],
      "include_colab_link": true
    }
  },
  "nbformat": 4,
  "nbformat_minor": 5
}